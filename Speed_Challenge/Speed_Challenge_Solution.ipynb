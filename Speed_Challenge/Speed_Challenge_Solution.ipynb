{
 "cells": [
  {
   "cell_type": "code",
   "execution_count": 1,
   "metadata": {
    "id": "qIrq5mHXUIUY"
   },
   "outputs": [],
   "source": [
    "import os\n",
    "\n",
    "# Library for randomly selecting data points\n",
    "import random\n",
    "\n",
    "# Library for performing numerical computations\n",
    "import numpy as np\n",
    "\n",
    "import cv2 as cv\n",
    "\n",
    "from PIL import Image\n",
    "\n",
    "# Library for creating and showing plots\n",
    "import matplotlib.pyplot as plt\n",
    "\n",
    "# Library for reading and showing images\n",
    "import matplotlib.image as mpimg\n",
    "\n",
    "import seaborn as sns\n",
    "\n",
    "# Importing all the required sub-modules from Keras\n",
    "from keras.models import Sequential, Model\n",
    "from keras.layers import Conv2D, MaxPooling2D, Flatten, Dense, BatchNormalization, Dropout\n",
    "\n",
    "import warnings\n",
    "warnings.filterwarnings(\"ignore\", category=DeprecationWarning)"
   ]
  },
  {
   "cell_type": "code",
   "execution_count": null,
   "metadata": {
    "id": "jF4jfGqw4Utv"
   },
   "outputs": [],
   "source": [
    "# importing the \"tarfile\" module\n",
    "#import tarfile\n",
    "\n",
    "# open file\n",
    "#file = tarfile.open('/content/drive/MyDrive/Speed_Challenge/speed_challenge_2017.tar')\n",
    "\n",
    "# extracting file\n",
    "#file.extractall('/content/drive/MyDrive/Speed_Challenge')\n",
    "\n",
    "#file.close()"
   ]
  },
  {
   "cell_type": "markdown",
   "metadata": {
    "id": "TF1RhJTbJDhp"
   },
   "source": [
    "## **Import all images for training from the training video.**"
   ]
  },
  {
   "cell_type": "code",
   "execution_count": null,
   "metadata": {
    "colab": {
     "base_uri": "https://localhost:8080/"
    },
    "id": "gRB5CZrD883_",
    "outputId": "651c300f-646a-46e7-dfda-64a97328e1db"
   },
   "outputs": [],
   "source": [
    "import cv2\n",
    "\n",
    "video_path = 'C:/Users/jismo/great_learning/Speed_Challenge/speed_challenge_2017/data/train.mp4'\n",
    "cap = cv2.VideoCapture(video_path)\n",
    "\n",
    "success = True\n",
    "\n",
    "image_id = 1\n",
    "\n",
    "while success:\n",
    "    success, image = cap.read()\n",
    "    if success:\n",
    "      filename = 'C:/Users/jismo/great_learning/Speed_Challenge/speed_challenge_2017/data/train/images/' + str(image_id) + '.jpg'\n",
    "      cv2.imwrite(filename, image)\n",
    "      image_id += 1\n",
    "\n",
    "print(\"Total Extracted images:\",image_id)"
   ]
  },
  {
   "cell_type": "markdown",
   "metadata": {
    "id": "BKh51kcQJXnR"
   },
   "source": [
    "## **Import all images for testing from the testing video.**"
   ]
  },
  {
   "cell_type": "code",
   "execution_count": null,
   "metadata": {
    "colab": {
     "base_uri": "https://localhost:8080/"
    },
    "id": "UJR9abCWJA3y",
    "outputId": "6f2f47e2-172e-43e2-d6d1-2abaf5968820"
   },
   "outputs": [],
   "source": [
    "video_path = 'C:/Users/jismo/great_learning/Speed_Challenge/speed_challenge_2017/data/test.mp4'\n",
    "cap = cv2.VideoCapture(video_path)\n",
    "\n",
    "success = True\n",
    "\n",
    "image_id = 1\n",
    "\n",
    "while success:\n",
    "    success, image = cap.read()\n",
    "    if success:\n",
    "      filename = 'C:/Users/jismo/great_learning/Speed_Challenge/speed_challenge_2017/data/test/images/' + str(image_id) + '.jpg'\n",
    "      cv2.imwrite(filename, image)\n",
    "      image_id += 1\n",
    "\n",
    "print(\"Total Extracted images:\",image_id)"
   ]
  },
  {
   "cell_type": "code",
   "execution_count": null,
   "metadata": {
    "colab": {
     "base_uri": "https://localhost:8080/",
     "height": 470
    },
    "id": "eU1prBw-Zqm-",
    "outputId": "9697e364-0fb5-417f-ade7-4c3f57eaf022"
   },
   "outputs": [],
   "source": [
    "\n",
    "from PIL import Image\n",
    "\n",
    "directory = 'C:/Users/jismo/great_learning/Speed_Challenge/speed_challenge_2017/data/test/images/'\n",
    "\n",
    "filename = directory + str(10) + '.jpg'\n",
    "\n",
    "image_array = []\n",
    "\n",
    "image = Image.open(filename)\n",
    "image=np.array(image)\n",
    "image_array.append(image)\n",
    "\n",
    "print(image_array[0].shape)\n",
    "\n",
    "plt.imshow(image_array[0])\n"
   ]
  },
  {
   "cell_type": "code",
   "execution_count": null,
   "metadata": {
    "id": "F_TJt_8-ggTp"
   },
   "outputs": [],
   "source": [
    "import cv2 as cv\n",
    "import numpy as np\n",
    "\n",
    "def calc_dense_optical_flow(video_path,output_path):\n",
    "\n",
    "  image_id = 1\n",
    "  # The video feed is read in as a VideoCapture object\n",
    "  cap = cv.VideoCapture(video_path)\n",
    "  # ret = a boolean return value from getting the frame, first_frame = the first frame in the entire video sequence\n",
    "  ret, first_frame = cap.read()\n",
    "  # Converts frame to grayscale because we only need the luminance channel for detecting edges - less computationally expensive\n",
    "  prev_gray = cv.cvtColor(first_frame, cv.COLOR_BGR2GRAY)\n",
    "  # Creates an image filled with zero intensities with the same dimensions as the frame\n",
    "  mask = np.zeros_like(first_frame)\n",
    "  # Sets image saturation to maximum\n",
    "  mask[..., 1] = 255\n",
    "\n",
    "  while(cap.isOpened()):\n",
    "      # ret = a boolean return value from getting the frame, frame = the current frame being projected in the video\n",
    "      ret, frame = cap.read()\n",
    "\n",
    "      if frame is None:\n",
    "            break\n",
    "      # Converts each frame to grayscale - we previously only converted the first frame to grayscale\n",
    "      gray = cv.cvtColor(frame, cv.COLOR_BGR2GRAY)\n",
    "      # Calculates dense optical flow by Farneback method\n",
    "      # https://docs.opencv.org/3.0-beta/modules/video/doc/motion_analysis_and_object_tracking.html#calcopticalflowfarneback\n",
    "      flow = cv.calcOpticalFlowFarneback(prev_gray, gray, None, 0.5, 3, 15, 3, 5, 1.2, 0)\n",
    "      # Computes the magnitude and angle of the 2D vectors\n",
    "      magnitude, angle = cv.cartToPolar(flow[..., 0], flow[..., 1])\n",
    "      # Sets image hue according to the optical flow direction\n",
    "      mask[..., 0] = angle * 180 / np.pi / 2\n",
    "      # Sets image value according to the optical flow magnitude (normalized)\n",
    "      mask[..., 2] = cv.normalize(magnitude, None, 0, 255, cv.NORM_MINMAX)\n",
    "      # Converts HSV to RGB (BGR) color representation\n",
    "      rgb = cv.cvtColor(mask, cv.COLOR_HSV2BGR)\n",
    "      # Opens a new window and displays the output frame\n",
    "      #cv.imshow(\"dense optical flow\", rgb)\n",
    "      # Updates previous frame\n",
    "      prev_gray = gray\n",
    "      # Frames are read by intervals of 1 millisecond. The programs breaks out of the while loop when the user presses the 'q' key\n",
    "      if cv.waitKey(1) & 0xFF == ord('q'):\n",
    "          break\n",
    "      filename = output_path + str(image_id) + '.jpg'\n",
    "      cv.imwrite(filename, rgb)\n",
    "      image_id += 1\n",
    "  print(\"Total images processed:\",image_id)\n",
    "  # The following frees up resources and closes all windows\n",
    "  cap.release()\n",
    "  cv.destroyAllWindows()"
   ]
  },
  {
   "cell_type": "code",
   "execution_count": null,
   "metadata": {
    "colab": {
     "base_uri": "https://localhost:8080/"
    },
    "id": "CZ9hLe-PjqI8",
    "outputId": "f4cff039-934d-4df9-b9ba-2ce94a2b476b"
   },
   "outputs": [],
   "source": [
    "#training video path\n",
    "video_path = 'C:/Users/jismo/great_learning/Speed_Challenge/speed_challenge_2017/data/train.mp4'\n",
    "#output path to save optical flow processed train images\n",
    "output_path = 'C:/Users/jismo/great_learning/Speed_Challenge/speed_challenge_2017/data/train/clean_images/'\n",
    "\n",
    "calc_dense_optical_flow(video_path,output_path)"
   ]
  },
  {
   "cell_type": "code",
   "execution_count": null,
   "metadata": {
    "colab": {
     "base_uri": "https://localhost:8080/"
    },
    "id": "VDHMQLDijxb4",
    "outputId": "47488b77-4a4e-4bdc-d463-12bf12cd8b8c"
   },
   "outputs": [],
   "source": [
    "#testing video path\n",
    "video_path = 'C:/Users/jismo/great_learning/Speed_Challenge/speed_challenge_2017/data/test.mp4'\n",
    "#output path to save optical flow processed test images\n",
    "output_path = 'C:/Users/jismo/great_learning/Speed_Challenge/speed_challenge_2017/data/test/clean_images/'\n",
    "\n",
    "calc_dense_optical_flow(video_path,output_path)"
   ]
  },
  {
   "cell_type": "code",
   "execution_count": null,
   "metadata": {
    "colab": {
     "base_uri": "https://localhost:8080/",
     "height": 365
    },
    "id": "rKoMwfbNoJmT",
    "outputId": "d8a93cee-fa5c-41b5-ab53-4b045180c7c1"
   },
   "outputs": [],
   "source": [
    "from PIL import Image\n",
    "import matplotlib.pyplot as plt\n",
    "import numpy as np\n",
    "\n",
    "directory = 'C:/Users/jismo/great_learning/Speed_Challenge/speed_challenge_2017/data/train/clean_images/'\n",
    "\n",
    "fig = plt.figure(figsize=(12, 12))\n",
    "\n",
    "print(\"Viewing first 10 training images processed by optical dense flow\")\n",
    "\n",
    "for i in range(10):\n",
    "\n",
    "    filename = directory + str(i + 1) + '.jpg'\n",
    "    image = cv.imread(filename)\n",
    "    image = np.array(image)\n",
    "    ax = plt.subplot(5, 5,i+1)\n",
    "    ax.axis('Off')\n",
    "    plt.imshow(image)\n",
    "    \n",
    "cv.destroyAllWindows()"
   ]
  },
  {
   "cell_type": "code",
   "execution_count": null,
   "metadata": {
    "colab": {
     "base_uri": "https://localhost:8080/",
     "height": 365
    },
    "id": "vx7a5H1SkOkv",
    "outputId": "8426608a-da65-48e9-8527-84172a6ca4b4"
   },
   "outputs": [],
   "source": [
    "directory = 'C:/Users/jismo/great_learning/Speed_Challenge/speed_challenge_2017/data/test/clean_images/'\n",
    "\n",
    "fig = plt.figure(figsize=(12, 12))\n",
    "\n",
    "print(\"Viewing first 10 testing images processed by optical dense flow\")\n",
    "\n",
    "for i in range(10):\n",
    "\n",
    "  filename = directory + str(i + 1) + '.jpg'\n",
    "  image = cv.imread(filename)\n",
    "  image = np.array(image)\n",
    "  ax = plt.subplot(5, 5,i+1)\n",
    "  ax.axis('Off')\n",
    "  plt.imshow(image,interpolation='nearest')\n",
    "    \n",
    "cv.destroyAllWindows()"
   ]
  },
  {
   "cell_type": "code",
   "execution_count": 2,
   "metadata": {},
   "outputs": [],
   "source": [
    "# Function to apply Gaussian blurring and resizing on clean training images\n",
    "\n",
    "import os\n",
    "\n",
    "train_image_cnt = 0\n",
    "test_image_cnt = 0\n",
    "\n",
    "def gaussian_blur(source_img_folder,blur_img_folder):\n",
    "    \n",
    "    train_image_cnt = 0\n",
    "    test_image_cnt = 0\n",
    "    \n",
    "    for file in os.listdir(source_img_folder):\n",
    "        if file.endswith(\".jpg\"):\n",
    "            image = cv.imread(source_img_folder + file)\n",
    "            image = cv.GaussianBlur(image, (5, 5), 0)\n",
    "            image = cv.resize(image,(200, 66),interpolation = cv.INTER_AREA)\n",
    "            image = np.array(image)\n",
    "            image = image.astype('float32')\n",
    "            image /= 255\n",
    "            if (source_img_folder.find('train') != -1):\n",
    "                train_image_cnt += 1\n",
    "                filename = blur_img_folder + file\n",
    "                cv.imwrite(filename, image)\n",
    "            if (source_img_folder.find('test') != -1):\n",
    "                test_image_cnt += 1\n",
    "                filename = blur_img_folder + file\n",
    "                cv.imwrite(filename, image)\n",
    "    print(\"Total training images processed:\",train_image_cnt)\n",
    "    print(\"Total testing images processed:\",test_image_cnt)"
   ]
  },
  {
   "cell_type": "code",
   "execution_count": 3,
   "metadata": {},
   "outputs": [
    {
     "name": "stdout",
     "output_type": "stream",
     "text": [
      "Total training images processed: 20399\n",
      "Total testing images processed: 0\n"
     ]
    }
   ],
   "source": [
    "# Apply Gaussian blur and resizing on clean training images\n",
    "source_img_folder = 'C:/Users/jismo/great_learning/Speed_Challenge/speed_challenge_2017/data/train/clean_images/'\n",
    "blur_img_folder = 'C:/Users/jismo/great_learning/Speed_Challenge/speed_challenge_2017/data/train/gblur_images/'\n",
    "\n",
    "gaussian_blur(source_img_folder,blur_img_folder)"
   ]
  },
  {
   "cell_type": "code",
   "execution_count": 4,
   "metadata": {},
   "outputs": [
    {
     "name": "stdout",
     "output_type": "stream",
     "text": [
      "(66, 200, 3)\n",
      "Mean Pixel: 0.004267676767676767\n",
      "Min Pixel: 0\n",
      "Max Pixel: 2\n",
      "(66, 200, 3)\n",
      "Mean Pixel: 0.0036868686868686868\n",
      "Min Pixel: 0\n",
      "Max Pixel: 2\n",
      "(66, 200, 3)\n",
      "Mean Pixel: 0.0008333333333333334\n",
      "Min Pixel: 0\n",
      "Max Pixel: 1\n",
      "(66, 200, 3)\n",
      "Mean Pixel: 0.005606060606060606\n",
      "Min Pixel: 0\n",
      "Max Pixel: 2\n",
      "(66, 200, 3)\n",
      "Mean Pixel: 0.004090909090909091\n",
      "Min Pixel: 0\n",
      "Max Pixel: 2\n"
     ]
    }
   ],
   "source": [
    "blur_img_folder = 'C:/Users/jismo/great_learning/Speed_Challenge/speed_challenge_2017/data/train/gblur_images/'\n",
    "\n",
    "sample_train_images = []\n",
    "\n",
    "for i in range(5):\n",
    "\n",
    "    filename = blur_img_folder + str(i + 1) + '.jpg'\n",
    "    image = cv.imread(filename)\n",
    "    image = np.array(image)\n",
    "    sample_train_images.append(image)\n",
    "    print(sample_train_images[i].shape)\n",
    "    print('Mean Pixel:',np.mean(sample_train_images[i]))\n",
    "    print('Min Pixel:',np.min(sample_train_images[i]))\n",
    "    print('Max Pixel:',np.max(sample_train_images[i]))\n",
    "    \n",
    "cv.destroyAllWindows()"
   ]
  },
  {
   "cell_type": "code",
   "execution_count": 6,
   "metadata": {},
   "outputs": [
    {
     "name": "stdout",
     "output_type": "stream",
     "text": [
      "Total training images processed: 0\n",
      "Total testing images processed: 10797\n"
     ]
    }
   ],
   "source": [
    "# Apply Gaussian blur and resizing on clean testing images\n",
    "source_img_folder = 'C:/Users/jismo/great_learning/Speed_Challenge/speed_challenge_2017/data/test/clean_images/'\n",
    "blur_img_folder = 'C:/Users/jismo/great_learning/Speed_Challenge/speed_challenge_2017/data/test/gblur_images/'\n",
    "\n",
    "gaussian_blur(source_img_folder,blur_img_folder)"
   ]
  },
  {
   "cell_type": "code",
   "execution_count": 10,
   "metadata": {},
   "outputs": [
    {
     "name": "stdout",
     "output_type": "stream",
     "text": [
      "(66, 200, 3)\n",
      "Mean Pixel: 0.024696969696969696\n",
      "Min Pixel: 0\n",
      "Max Pixel: 2\n",
      "(66, 200, 3)\n",
      "Mean Pixel: 0.021742424242424244\n",
      "Min Pixel: 0\n",
      "Max Pixel: 3\n",
      "(66, 200, 3)\n",
      "Mean Pixel: 0.004393939393939394\n",
      "Min Pixel: 0\n",
      "Max Pixel: 1\n",
      "(66, 200, 3)\n",
      "Mean Pixel: 0.004015151515151515\n",
      "Min Pixel: 0\n",
      "Max Pixel: 1\n",
      "(66, 200, 3)\n",
      "Mean Pixel: 0.007045454545454546\n",
      "Min Pixel: 0\n",
      "Max Pixel: 1\n"
     ]
    }
   ],
   "source": [
    "blur_img_folder = 'C:/Users/jismo/great_learning/Speed_Challenge/speed_challenge_2017/data/test/gblur_images/'\n",
    "\n",
    "sample_test_images = []\n",
    "\n",
    "for i in range(5):\n",
    "\n",
    "    filename = blur_img_folder + str(i + 1) + '.jpg'\n",
    "    image = cv.imread(filename)\n",
    "    image = np.array(image)\n",
    "    sample_test_images.append(image)\n",
    "    print(sample_test_images[i].shape)\n",
    "    print('Mean Pixel:',np.mean(sample_test_images[i]))\n",
    "    print('Min Pixel:',np.min(sample_test_images[i]))\n",
    "    print('Max Pixel:',np.max(sample_test_images[i]))\n",
    "    \n",
    "cv.destroyAllWindows()"
   ]
  },
  {
   "cell_type": "code",
   "execution_count": 2,
   "metadata": {
    "id": "VzKeJXMimH9Q"
   },
   "outputs": [],
   "source": [
    "def create_train_labels(filename):\n",
    "  labels = []\n",
    "  cnt = 0\n",
    "  for row in open(filename, 'r') :\n",
    "        labels.append(float(row))\n",
    "        cnt += 1\n",
    "\n",
    "  return labels\n"
   ]
  },
  {
   "cell_type": "code",
   "execution_count": 3,
   "metadata": {
    "id": "gXP2wGXOnTiO"
   },
   "outputs": [],
   "source": [
    "train_labels = []\n",
    "\n",
    "filename = 'C:/Users/jismo/great_learning/Speed_Challenge/speed_challenge_2017/data/train.txt'\n",
    "\n",
    "train_labels = create_train_labels(filename)\n"
   ]
  },
  {
   "cell_type": "code",
   "execution_count": 4,
   "metadata": {
    "colab": {
     "base_uri": "https://localhost:8080/"
    },
    "id": "zEqa_z9GH18X",
    "outputId": "27dba2e9-f86e-42ae-f8e1-d9be3c33a90b"
   },
   "outputs": [
    {
     "data": {
      "text/plain": [
       "2.206759"
      ]
     },
     "execution_count": 4,
     "metadata": {},
     "output_type": "execute_result"
    }
   ],
   "source": [
    "train_labels.pop()"
   ]
  },
  {
   "cell_type": "code",
   "execution_count": 5,
   "metadata": {
    "colab": {
     "base_uri": "https://localhost:8080/"
    },
    "id": "Subcu0PzNFl3",
    "outputId": "76fac8d2-3e56-4b11-8d4a-cbae08094eed"
   },
   "outputs": [
    {
     "name": "stdout",
     "output_type": "stream",
     "text": [
      "(20399,)\n"
     ]
    }
   ],
   "source": [
    "train_labels = np.array(train_labels)\n",
    "train_labels = train_labels.astype('float32')\n",
    "\n",
    "print(train_labels.shape)\n"
   ]
  },
  {
   "cell_type": "code",
   "execution_count": 13,
   "metadata": {
    "id": "gvtjERiW0OjL"
   },
   "outputs": [],
   "source": [
    "# create datasets for training and testing images\n",
    "\n",
    "import os\n",
    "\n",
    "train_images=[]\n",
    "\n",
    "test_images=[]\n",
    "\n",
    "def create_dataset(img_folder):\n",
    "\n",
    "    for file in os.listdir(img_folder):\n",
    "        if file.endswith(\".jpg\"):\n",
    "            image = cv.imread(img_folder + file)\n",
    "            # image = image.resize((200, 66))\n",
    "            #  image = cv.GaussianBlur(image, (5, 5), 0)\n",
    "            image = np.array(image)\n",
    "            image = image.astype('float32')\n",
    "            # image /= 255\n",
    "            if (img_folder.find('train') != -1):\n",
    "                train_images.append(image)\n",
    "            if (img_folder.find('test') != -1):\n",
    "                test_images.append(image)"
   ]
  },
  {
   "cell_type": "code",
   "execution_count": 6,
   "metadata": {
    "colab": {
     "background_save": true
    },
    "id": "V4orA3In6FtJ"
   },
   "outputs": [],
   "source": [
    "# create dataset for training images\n",
    "train_images=[]\n",
    "\n",
    "gblur_train_images_dir = 'C:/Users/jismo/great_learning/Speed_Challenge/speed_challenge_2017/data/train/gblur_images/'\n",
    "\n",
    "create_dataset(gblur_train_images_dir)\n"
   ]
  },
  {
   "cell_type": "code",
   "execution_count": 7,
   "metadata": {
    "id": "D6Qn7_y9-KYC"
   },
   "outputs": [],
   "source": [
    "# create dataset for testing images\n",
    "gblur_test_images_dir = 'C:/Users/jismo/great_learning/Speed_Challenge/speed_challenge_2017/data/test/gblur_images/'\n",
    "\n",
    "create_dataset(gblur_test_images_dir)"
   ]
  },
  {
   "cell_type": "code",
   "execution_count": 8,
   "metadata": {
    "id": "R9YjHLI4khw3"
   },
   "outputs": [],
   "source": [
    "#convert training and testing datasets to numpy arrays\n",
    "\n",
    "train_images = np.array(train_images)\n",
    "train_images = train_images.astype('float32')\n",
    "\n",
    "test_images = np.array(test_images)\n",
    "test_images = test_images.astype('float32')\n",
    "\n"
   ]
  },
  {
   "cell_type": "code",
   "execution_count": null,
   "metadata": {
    "colab": {
     "base_uri": "https://localhost:8080/"
    },
    "id": "FHuBRozdlER9",
    "outputId": "1824b970-b028-4444-d0de-b3b9e49bd4b7"
   },
   "outputs": [],
   "source": [
    "print(\"Shape of Training images:\",train_images.shape)\n",
    "print(\"Shape of Testing images:\",test_images.shape)\n"
   ]
  },
  {
   "cell_type": "code",
   "execution_count": null,
   "metadata": {
    "colab": {
     "base_uri": "https://localhost:8080/",
     "height": 245
    },
    "id": "o6HeUHIq-r8a",
    "outputId": "267bdf99-8381-4212-f96e-dcce562a19e1"
   },
   "outputs": [],
   "source": [
    "plt.imshow(train_images[100])\n"
   ]
  },
  {
   "cell_type": "code",
   "execution_count": null,
   "metadata": {
    "colab": {
     "base_uri": "https://localhost:8080/",
     "height": 245
    },
    "id": "majgslcpJUcv",
    "outputId": "f3562e88-e06c-41b8-aca3-3d8fc6498c5f"
   },
   "outputs": [],
   "source": [
    "plt.imshow(test_images[100])"
   ]
  },
  {
   "cell_type": "code",
   "execution_count": 11,
   "metadata": {
    "colab": {
     "base_uri": "https://localhost:8080/"
    },
    "id": "nRjQ9tPeWpNW",
    "outputId": "cfc0d0cc-d01b-4044-9569-60ef0ba45d90"
   },
   "outputs": [
    {
     "name": "stdout",
     "output_type": "stream",
     "text": [
      "No of Train images: 20399\n",
      "Shape of Train images: (20399, 66, 200, 3)\n",
      "No of Test images: 10797\n",
      "Shape of Test images: (10797, 66, 200, 3)\n",
      "Shape of Train Labels: (20399,)\n"
     ]
    }
   ],
   "source": [
    "print(\"No of Train images:\",len(train_images))\n",
    "print(\"Shape of Train images:\",train_images.shape)\n",
    "print(\"No of Test images:\",len(test_images))\n",
    "print(\"Shape of Test images:\",test_images.shape)\n",
    "print(\"Shape of Train Labels:\",train_labels.shape)\n",
    "\n",
    "\n"
   ]
  },
  {
   "cell_type": "code",
   "execution_count": 6,
   "metadata": {
    "id": "_8N7INGcOaXk"
   },
   "outputs": [],
   "source": [
    "# For Model Building\n",
    "import tensorflow as tf\n",
    "import keras\n",
    "from tensorflow.keras.models import Sequential, Model # Sequential api for sequential model\n",
    "\n",
    "# Clearing backend\n",
    "from tensorflow.keras import backend\n",
    "\n",
    "from tensorflow.keras.utils import to_categorical\n",
    "\n",
    "from tensorflow.keras.models import Sequential\n",
    "\n",
    "from tensorflow.keras.layers import Conv2D, MaxPooling2D, Dense, Flatten, Dropout\n",
    "\n",
    "from tensorflow.keras.callbacks import EarlyStopping, ModelCheckpoint\n",
    "\n",
    "from random import shuffle\n",
    "\n",
    "import numpy as np\n",
    "\n",
    "# Sequential model\n",
    "sc_model = Sequential()\n",
    "sc_model.add(Conv2D(64, (5,5), activation='relu', input_shape=(66, 200,3)))\n",
    "#sc_model.add(MaxPooling2D(2,2))\n",
    "sc_model.add(Conv2D(32, (5,5), activation='relu'))\n",
    "#sc_model.add(MaxPooling2D(2,2))\n",
    "sc_model.add(Conv2D(32, (5,5), activation='relu'))\n",
    "#sc_model.add(MaxPooling2D(5,5))\n",
    "sc_model.add(Conv2D(32, (5,5), activation='relu'))\n",
    "sc_model.add(MaxPooling2D(5,5))\n",
    "sc_model.add(Dropout(0.3))\n",
    "sc_model.add(Flatten())\n",
    "sc_model.add(Dense(128, activation='relu'))\n",
    "sc_model.add(Dropout(0.3))\n",
    "sc_model.add(Dense(32, activation='relu'))\n",
    "sc_model.add(Dense(32, activation='relu'))\n",
    "sc_model.add(Dense(16, activation='relu'))\n",
    "sc_model.add(Dense(1, activation='linear'))\n",
    "\n"
   ]
  },
  {
   "cell_type": "code",
   "execution_count": 21,
   "metadata": {
    "colab": {
     "base_uri": "https://localhost:8080/"
    },
    "id": "17sfMp8wJypT",
    "outputId": "f709e287-13dc-4a0f-9b18-32e5dc0b3bf4"
   },
   "outputs": [
    {
     "name": "stdout",
     "output_type": "stream",
     "text": [
      "Model: \"sequential\"\n",
      "_________________________________________________________________\n",
      " Layer (type)                Output Shape              Param #   \n",
      "=================================================================\n",
      " conv2d (Conv2D)             (None, 62, 196, 64)       4864      \n",
      "                                                                 \n",
      " conv2d_1 (Conv2D)           (None, 58, 192, 32)       51232     \n",
      "                                                                 \n",
      " conv2d_2 (Conv2D)           (None, 54, 188, 32)       25632     \n",
      "                                                                 \n",
      " conv2d_3 (Conv2D)           (None, 50, 184, 32)       25632     \n",
      "                                                                 \n",
      " max_pooling2d (MaxPooling2  (None, 10, 36, 32)        0         \n",
      " D)                                                              \n",
      "                                                                 \n",
      " dropout (Dropout)           (None, 10, 36, 32)        0         \n",
      "                                                                 \n",
      " flatten (Flatten)           (None, 11520)             0         \n",
      "                                                                 \n",
      " dense (Dense)               (None, 128)               1474688   \n",
      "                                                                 \n",
      " dropout_1 (Dropout)         (None, 128)               0         \n",
      "                                                                 \n",
      " dense_1 (Dense)             (None, 32)                4128      \n",
      "                                                                 \n",
      " dense_2 (Dense)             (None, 32)                1056      \n",
      "                                                                 \n",
      " dense_3 (Dense)             (None, 16)                528       \n",
      "                                                                 \n",
      " dense_4 (Dense)             (None, 1)                 17        \n",
      "                                                                 \n",
      "=================================================================\n",
      "Total params: 1587777 (6.06 MB)\n",
      "Trainable params: 1587777 (6.06 MB)\n",
      "Non-trainable params: 0 (0.00 Byte)\n",
      "_________________________________________________________________\n"
     ]
    }
   ],
   "source": [
    "sc_model.summary()\n"
   ]
  },
  {
   "cell_type": "code",
   "execution_count": 22,
   "metadata": {
    "id": "73lFXbB9KQE6"
   },
   "outputs": [],
   "source": [
    "opt = tf.keras.optimizers.Adam(learning_rate=0.0001)\n",
    "sc_model.compile(optimizer=opt,loss='mse',metrics='mae')"
   ]
  },
  {
   "cell_type": "code",
   "execution_count": 23,
   "metadata": {
    "id": "xtznEI_aJ-Dx"
   },
   "outputs": [],
   "source": [
    "my_callbacks = tf.keras.callbacks.EarlyStopping(monitor='val_loss', patience=10)\n",
    "# This callback will stop the training when there is no improvement in\n",
    "# the loss for ten consecutive epochs."
   ]
  },
  {
   "cell_type": "code",
   "execution_count": 24,
   "metadata": {
    "id": "WXubFD5WSz3F"
   },
   "outputs": [],
   "source": [
    "# Clearing backend\n",
    "from tensorflow.keras import backend\n",
    "\n",
    "backend.clear_session()\n",
    "\n",
    "# Fixing the seed for random number generators so that we can ensure we receive the same output everytime\n",
    "np.random.seed(42)\n",
    "\n",
    "import random\n",
    "\n",
    "random.seed(42)\n",
    "\n",
    "tf.random.set_seed(42)"
   ]
  },
  {
   "cell_type": "code",
   "execution_count": null,
   "metadata": {
    "colab": {
     "base_uri": "https://localhost:8080/"
    },
    "id": "oUj4Zat2LzXJ",
    "outputId": "3d8c3fde-62a3-462e-bbc1-3dbb054bbc70",
    "scrolled": false
   },
   "outputs": [
    {
     "name": "stdout",
     "output_type": "stream",
     "text": [
      "Epoch 1/20\n",
      "510/510 [==============================] - 2452s 5s/step - loss: 51.9309 - mae: 4.8568 - val_loss: 22.7113 - val_mae: 3.5833\n",
      "Epoch 2/20\n",
      "510/510 [==============================] - 22292s 44s/step - loss: 23.7910 - mae: 3.4891 - val_loss: 21.2639 - val_mae: 3.5600\n",
      "Epoch 3/20\n",
      "510/510 [==============================] - 1336s 3s/step - loss: 22.2296 - mae: 3.3604 - val_loss: 20.2367 - val_mae: 3.5617\n",
      "Epoch 4/20\n",
      "510/510 [==============================] - 1457s 3s/step - loss: 22.1004 - mae: 3.3716 - val_loss: 19.3893 - val_mae: 3.5818\n",
      "Epoch 5/20\n",
      "510/510 [==============================] - 10614s 21s/step - loss: 22.4872 - mae: 3.4073 - val_loss: 18.9236 - val_mae: 3.6105\n",
      "Epoch 6/20\n",
      "510/510 [==============================] - 3748s 7s/step - loss: 23.2262 - mae: 3.5078 - val_loss: 18.7085 - val_mae: 3.6364\n",
      "Epoch 7/20\n",
      "510/510 [==============================] - 1451s 3s/step - loss: 24.0003 - mae: 3.5993 - val_loss: 18.8213 - val_mae: 3.6216\n",
      "Epoch 8/20\n",
      "510/510 [==============================] - 1497s 3s/step - loss: 24.0120 - mae: 3.5880 - val_loss: 18.5906 - val_mae: 3.6668\n",
      "Epoch 9/20\n",
      "510/510 [==============================] - 1485s 3s/step - loss: 23.8539 - mae: 3.5654 - val_loss: 18.5883 - val_mae: 3.6726\n",
      "Epoch 10/20\n",
      "510/510 [==============================] - 1490s 3s/step - loss: 24.5134 - mae: 3.6123 - val_loss: 18.5838 - val_mae: 3.6836\n",
      "Epoch 11/20\n",
      "510/510 [==============================] - 1516s 3s/step - loss: 25.0518 - mae: 3.6607 - val_loss: 18.5920 - val_mae: 3.6879\n",
      "Epoch 12/20\n",
      "388/510 [=====================>........] - ETA: 5:48 - loss: 26.8949 - mae: 3.5921"
     ]
    }
   ],
   "source": [
    "sc_history = sc_model.fit(train_images,train_labels, batch_size = 32, shuffle=False, validation_split = 0.2, epochs = 20, verbose = 1, callbacks=my_callbacks)"
   ]
  },
  {
   "cell_type": "code",
   "execution_count": null,
   "metadata": {
    "colab": {
     "base_uri": "https://localhost:8080/"
    },
    "id": "-_FVaH0HDa4d",
    "outputId": "230a0f2e-9c3b-4322-8f64-4c9eedd365f4"
   },
   "outputs": [],
   "source": [
    "# Make predictions based on sc_model\n",
    "result = []\n",
    "for i in range(10):\n",
    "    result.append(sc_model.predict(test_images[i:i+1]))\n",
    "\n",
    "for i in range(10):\n",
    "  print(i,result[i])\n",
    "\n",
    "\n"
   ]
  },
  {
   "cell_type": "code",
   "execution_count": 13,
   "metadata": {
    "id": "uJ51H-lfFx60"
   },
   "outputs": [],
   "source": [
    "backend.clear_session()\n",
    "\n",
    "# Fixing the seed for random number generators so that we can ensure we receive the same output everytime\n",
    "np.random.seed(42)\n",
    "\n",
    "import random\n",
    "\n",
    "random.seed(42)\n",
    "\n",
    "tf.random.set_seed(42)"
   ]
  },
  {
   "cell_type": "code",
   "execution_count": 14,
   "metadata": {
    "id": "OJCsQ-VxGEI9"
   },
   "outputs": [],
   "source": [
    "sc_model2 = tf.keras.models.Sequential([\n",
    "\n",
    "        tf.keras.layers.BatchNormalization(input_shape=(66, 200,3)),\n",
    "        tf.keras.layers.Conv2D(24, (5, 5), activation='elu', strides=(2, 2)),\n",
    "        tf.keras.layers.Conv2D(36, (5, 5), activation='elu', strides=(2, 2)),\n",
    "        tf.keras.layers.Conv2D(48, (5, 5), activation='elu', strides=(2, 2)),\n",
    "        tf.keras.layers.Conv2D(64, (3, 3), activation='elu'),\n",
    "        tf.keras.layers.Conv2D(64, (3, 3), activation='elu'),\n",
    "        tf.keras.layers.Flatten(),\n",
    "        tf.keras.layers.Dense(256, activation='elu'),\n",
    "        tf.keras.layers.Dense(50, activation='elu'),\n",
    "        tf.keras.layers.Dense(10, activation='elu'),\n",
    "        tf.keras.layers.Dense(1, name='output')\n",
    "\n",
    "    ])"
   ]
  },
  {
   "cell_type": "code",
   "execution_count": 15,
   "metadata": {
    "id": "xyplg6k7GfJk"
   },
   "outputs": [],
   "source": [
    "opt = tf.keras.optimizers.Adam(learning_rate=0.0001)\n",
    "sc_model2.compile(optimizer=opt,loss='mse',metrics='mae')"
   ]
  },
  {
   "cell_type": "code",
   "execution_count": 16,
   "metadata": {
    "colab": {
     "base_uri": "https://localhost:8080/"
    },
    "id": "UYWBWa2qHiB1",
    "outputId": "fc06e3f1-939f-4aed-ffc6-7cbefd8b06f3"
   },
   "outputs": [
    {
     "name": "stdout",
     "output_type": "stream",
     "text": [
      "Model: \"sequential\"\n",
      "_________________________________________________________________\n",
      " Layer (type)                Output Shape              Param #   \n",
      "=================================================================\n",
      " batch_normalization (Batch  (None, 66, 200, 3)        12        \n",
      " Normalization)                                                  \n",
      "                                                                 \n",
      " conv2d (Conv2D)             (None, 31, 98, 24)        1824      \n",
      "                                                                 \n",
      " conv2d_1 (Conv2D)           (None, 14, 47, 36)        21636     \n",
      "                                                                 \n",
      " conv2d_2 (Conv2D)           (None, 5, 22, 48)         43248     \n",
      "                                                                 \n",
      " conv2d_3 (Conv2D)           (None, 3, 20, 64)         27712     \n",
      "                                                                 \n",
      " conv2d_4 (Conv2D)           (None, 1, 18, 64)         36928     \n",
      "                                                                 \n",
      " flatten (Flatten)           (None, 1152)              0         \n",
      "                                                                 \n",
      " dense (Dense)               (None, 256)               295168    \n",
      "                                                                 \n",
      " dense_1 (Dense)             (None, 50)                12850     \n",
      "                                                                 \n",
      " dense_2 (Dense)             (None, 10)                510       \n",
      "                                                                 \n",
      " output (Dense)              (None, 1)                 11        \n",
      "                                                                 \n",
      "=================================================================\n",
      "Total params: 439899 (1.68 MB)\n",
      "Trainable params: 439893 (1.68 MB)\n",
      "Non-trainable params: 6 (24.00 Byte)\n",
      "_________________________________________________________________\n"
     ]
    }
   ],
   "source": [
    "sc_model2.summary()\n"
   ]
  },
  {
   "cell_type": "code",
   "execution_count": 17,
   "metadata": {
    "id": "rZb9A77dHoPb"
   },
   "outputs": [],
   "source": [
    "my_callbacks = tf.keras.callbacks.EarlyStopping(monitor='val_loss', patience=10)\n",
    "# This callback will stop the training when there is no improvement in\n",
    "# the loss for ten consecutive epochs."
   ]
  },
  {
   "cell_type": "code",
   "execution_count": 18,
   "metadata": {
    "colab": {
     "base_uri": "https://localhost:8080/"
    },
    "id": "13oAEkteH27D",
    "outputId": "420e324f-1c35-41f7-a8a0-8991c637fd7e"
   },
   "outputs": [
    {
     "name": "stdout",
     "output_type": "stream",
     "text": [
      "Epoch 1/100\n",
      "510/510 [==============================] - 100s 193ms/step - loss: 34.9783 - mae: 3.9524 - val_loss: 20.6555 - val_mae: 3.5302\n",
      "Epoch 2/100\n",
      "510/510 [==============================] - 101s 198ms/step - loss: 22.1267 - mae: 3.3571 - val_loss: 19.9794 - val_mae: 3.5189\n",
      "Epoch 3/100\n",
      "510/510 [==============================] - 100s 197ms/step - loss: 22.5483 - mae: 3.3466 - val_loss: 18.5515 - val_mae: 3.6093\n",
      "Epoch 4/100\n",
      "510/510 [==============================] - 95s 187ms/step - loss: 21.8100 - mae: 3.3430 - val_loss: 18.6260 - val_mae: 3.7389\n",
      "Epoch 5/100\n",
      "510/510 [==============================] - 96s 189ms/step - loss: 22.3885 - mae: 3.4153 - val_loss: 18.6130 - val_mae: 3.6831\n",
      "Epoch 6/100\n",
      "510/510 [==============================] - 96s 188ms/step - loss: 22.1037 - mae: 3.3684 - val_loss: 18.5877 - val_mae: 3.6591\n",
      "Epoch 7/100\n",
      "510/510 [==============================] - 97s 190ms/step - loss: 27.5317 - mae: 3.8832 - val_loss: 21.9498 - val_mae: 3.6778\n",
      "Epoch 8/100\n",
      "510/510 [==============================] - 96s 189ms/step - loss: 26.3952 - mae: 3.8192 - val_loss: 18.5547 - val_mae: 3.7154\n",
      "Epoch 9/100\n",
      "510/510 [==============================] - 100s 196ms/step - loss: 25.3417 - mae: 3.7401 - val_loss: 18.4775 - val_mae: 3.6088\n",
      "Epoch 10/100\n",
      "510/510 [==============================] - 96s 189ms/step - loss: 25.2665 - mae: 3.7557 - val_loss: 18.4082 - val_mae: 3.5858\n",
      "Epoch 11/100\n",
      "510/510 [==============================] - 97s 190ms/step - loss: 29.1844 - mae: 4.1000 - val_loss: 18.6475 - val_mae: 3.6465\n",
      "Epoch 12/100\n",
      "510/510 [==============================] - 97s 191ms/step - loss: 34.4570 - mae: 4.6257 - val_loss: 19.3693 - val_mae: 3.7460\n",
      "Epoch 13/100\n",
      "510/510 [==============================] - 98s 192ms/step - loss: 38.1598 - mae: 5.0825 - val_loss: 19.7282 - val_mae: 3.9137\n",
      "Epoch 14/100\n",
      "510/510 [==============================] - 97s 190ms/step - loss: 31.2004 - mae: 4.3051 - val_loss: 18.6868 - val_mae: 3.8139\n",
      "Epoch 15/100\n",
      "510/510 [==============================] - 98s 193ms/step - loss: 31.9916 - mae: 4.3597 - val_loss: 18.5711 - val_mae: 3.7461\n",
      "Epoch 16/100\n",
      "510/510 [==============================] - 97s 190ms/step - loss: 33.7336 - mae: 4.5165 - val_loss: 21.8692 - val_mae: 4.0287\n",
      "Epoch 17/100\n",
      "510/510 [==============================] - 100s 197ms/step - loss: 35.9662 - mae: 4.8590 - val_loss: 19.5201 - val_mae: 3.8079\n",
      "Epoch 18/100\n",
      "510/510 [==============================] - 98s 192ms/step - loss: 39.9817 - mae: 5.1685 - val_loss: 22.0149 - val_mae: 4.0261\n",
      "Epoch 19/100\n",
      "510/510 [==============================] - 97s 190ms/step - loss: 42.7629 - mae: 5.4756 - val_loss: 21.1353 - val_mae: 4.0151\n",
      "Epoch 20/100\n",
      "510/510 [==============================] - 98s 193ms/step - loss: 43.8317 - mae: 5.5697 - val_loss: 22.8006 - val_mae: 4.2032\n"
     ]
    }
   ],
   "source": [
    "sc_history2 = sc_model2.fit(train_images,train_labels, batch_size = 32, shuffle=False, validation_split = 0.2, epochs = 100, verbose = 1, callbacks=my_callbacks)"
   ]
  },
  {
   "cell_type": "code",
   "execution_count": null,
   "metadata": {
    "colab": {
     "base_uri": "https://localhost:8080/"
    },
    "id": "rh9dakk_kHaE",
    "outputId": "1f514d1c-d0cc-4599-f188-f4ed76b69795"
   },
   "outputs": [],
   "source": [
    "# Make predictions based on sc_model2\n",
    "result = []\n",
    "for i in range(10):\n",
    "    result.append(sc_model2.predict(test_images[i:i+1]))\n",
    "\n",
    "for i in range(10):\n",
    "  print(i,result[i])"
   ]
  },
  {
   "cell_type": "code",
   "execution_count": null,
   "metadata": {
    "colab": {
     "base_uri": "https://localhost:8080/"
    },
    "id": "ou7yBL8H-cq4",
    "outputId": "324aaf67-9c8b-4af3-b212-c9c9854ee6d0"
   },
   "outputs": [],
   "source": [
    "#I select the first model,sc_model as a model of choice and want to use that for making predictions.\n",
    "\n",
    "predictions = sc_model.predict(test_images)\n",
    "\n",
    "print(len(predictions))\n",
    "\n",
    "\n"
   ]
  },
  {
   "cell_type": "code",
   "execution_count": null,
   "metadata": {
    "id": "CljTh2Hi_Q_e"
   },
   "outputs": [],
   "source": [
    "import pandas as pd\n",
    "\n",
    "os.chdir = '/content/drive/MyDrive/Speed_Challenge/data/test/predictions'\n",
    "prediction_csv = pd.DataFrame(predictions, columns=['predictions']).to_csv('predictions.csv')"
   ]
  },
  {
   "cell_type": "code",
   "execution_count": 6,
   "metadata": {},
   "outputs": [],
   "source": [
    "# create numpy arrays for training and testing datasets\n",
    "\n",
    "import os\n",
    "\n",
    "clean_train_images=[]\n",
    "\n",
    "clean_test_images=[]\n",
    "\n",
    "def create_dataset_clean(clean_img_folder):\n",
    "\n",
    "        for file in os.listdir(clean_img_folder):\n",
    "            if file.endswith(\".jpg\"):\n",
    "                image = Image.open(clean_img_folder + file)\n",
    "                image = image.resize((200, 66))\n",
    "                image=np.array(image)\n",
    "                image = image.astype('float32')\n",
    "                image /= 255\n",
    "                if (clean_img_folder.find('train') != -1):\n",
    "                  clean_train_images.append(image)\n",
    "                if (clean_img_folder.find('test') != -1):\n",
    "                  clean_test_images.append(image)"
   ]
  },
  {
   "cell_type": "code",
   "execution_count": 7,
   "metadata": {},
   "outputs": [],
   "source": [
    "# create dataset for training images using optical dense flow without blurring\n",
    "clean_train_images=[]\n",
    "\n",
    "clean_train_images_dir = 'C:/Users/jismo/great_learning/Speed_Challenge/speed_challenge_2017/data/train/clean_images/'\n",
    "\n",
    "create_dataset_clean(clean_train_images_dir)"
   ]
  },
  {
   "cell_type": "code",
   "execution_count": 8,
   "metadata": {},
   "outputs": [],
   "source": [
    "# create dataset for training images using optical dense flow without blurring\n",
    "clean_test_images=[]\n",
    "\n",
    "clean_test_images_dir = 'C:/Users/jismo/great_learning/Speed_Challenge/speed_challenge_2017/data/test/clean_images/'\n",
    "\n",
    "create_dataset_clean(clean_test_images_dir)"
   ]
  },
  {
   "cell_type": "code",
   "execution_count": 9,
   "metadata": {},
   "outputs": [],
   "source": [
    "#convert training and testing datasets to numpy arrays\n",
    "\n",
    "clean_train_images = np.array(clean_train_images)\n",
    "clean_train_images = clean_train_images.astype('float32')\n",
    "\n",
    "clean_test_images = np.array(clean_test_images)\n",
    "clean_test_images = clean_test_images.astype('float32')"
   ]
  },
  {
   "cell_type": "code",
   "execution_count": 10,
   "metadata": {},
   "outputs": [
    {
     "name": "stdout",
     "output_type": "stream",
     "text": [
      "No of Train images: 20399\n",
      "Shape of Train images: (20399, 66, 200, 3)\n",
      "No of Test images: 10797\n",
      "Shape of Test images: (10797, 66, 200, 3)\n",
      "Shape of Train Labels: (20399,)\n"
     ]
    }
   ],
   "source": [
    "print(\"No of Train images:\",len(clean_train_images))\n",
    "print(\"Shape of Train images:\",clean_train_images.shape)\n",
    "print(\"No of Test images:\",len(clean_test_images))\n",
    "print(\"Shape of Test images:\",clean_test_images.shape)\n",
    "print(\"Shape of Train Labels:\",train_labels.shape)"
   ]
  },
  {
   "cell_type": "code",
   "execution_count": 11,
   "metadata": {},
   "outputs": [],
   "source": [
    "# For Model Building\n",
    "import tensorflow as tf\n",
    "import keras\n",
    "from tensorflow.keras.models import Sequential, Model # Sequential api for sequential model\n",
    "\n",
    "# Clearing backend\n",
    "from tensorflow.keras import backend\n",
    "\n",
    "from tensorflow.keras.utils import to_categorical\n",
    "\n",
    "from tensorflow.keras.models import Sequential\n",
    "\n",
    "from tensorflow.keras.layers import Conv2D, MaxPooling2D, Dense, Flatten, Dropout\n",
    "\n",
    "from tensorflow.keras.callbacks import EarlyStopping, ModelCheckpoint\n",
    "\n",
    "from random import shuffle\n",
    "\n",
    "import numpy as np\n",
    "sc_model3 = tf.keras.models.Sequential([\n",
    "\n",
    "        tf.keras.layers.BatchNormalization(input_shape=(66, 200,3)),\n",
    "        tf.keras.layers.Conv2D(24, (5, 5), activation='relu', strides=(2, 2)),\n",
    "        tf.keras.layers.Conv2D(36, (5, 5), activation='relu', strides=(2, 2)),\n",
    "        tf.keras.layers.Conv2D(48, (5, 5), activation='relu', strides=(2, 2)),\n",
    "        tf.keras.layers.Conv2D(64, (3, 3), activation='relu'),\n",
    "        tf.keras.layers.Conv2D(64, (3, 3), activation='relu'),\n",
    "        tf.keras.layers.Flatten(),\n",
    "        tf.keras.layers.Dense(256, activation='relu'),\n",
    "        tf.keras.layers.Dense(64, activation='relu'),\n",
    "        tf.keras.layers.Dense(32, activation='relu'),\n",
    "        tf.keras.layers.Dense(16, activation='relu'),\n",
    "        tf.keras.layers.Dense(1, name='output')\n",
    "\n",
    "    ])"
   ]
  },
  {
   "cell_type": "code",
   "execution_count": 12,
   "metadata": {},
   "outputs": [],
   "source": [
    "opt = tf.keras.optimizers.Adam(learning_rate=0.0001)\n",
    "sc_model3.compile(optimizer=opt,loss='mse',metrics='mae')"
   ]
  },
  {
   "cell_type": "code",
   "execution_count": 13,
   "metadata": {},
   "outputs": [
    {
     "name": "stdout",
     "output_type": "stream",
     "text": [
      "Model: \"sequential\"\n",
      "_________________________________________________________________\n",
      " Layer (type)                Output Shape              Param #   \n",
      "=================================================================\n",
      " batch_normalization (Batch  (None, 66, 200, 3)        12        \n",
      " Normalization)                                                  \n",
      "                                                                 \n",
      " conv2d (Conv2D)             (None, 31, 98, 24)        1824      \n",
      "                                                                 \n",
      " conv2d_1 (Conv2D)           (None, 14, 47, 36)        21636     \n",
      "                                                                 \n",
      " conv2d_2 (Conv2D)           (None, 5, 22, 48)         43248     \n",
      "                                                                 \n",
      " conv2d_3 (Conv2D)           (None, 3, 20, 64)         27712     \n",
      "                                                                 \n",
      " conv2d_4 (Conv2D)           (None, 1, 18, 64)         36928     \n",
      "                                                                 \n",
      " flatten (Flatten)           (None, 1152)              0         \n",
      "                                                                 \n",
      " dense (Dense)               (None, 256)               295168    \n",
      "                                                                 \n",
      " dense_1 (Dense)             (None, 64)                16448     \n",
      "                                                                 \n",
      " dense_2 (Dense)             (None, 32)                2080      \n",
      "                                                                 \n",
      " dense_3 (Dense)             (None, 16)                528       \n",
      "                                                                 \n",
      " output (Dense)              (None, 1)                 17        \n",
      "                                                                 \n",
      "=================================================================\n",
      "Total params: 445601 (1.70 MB)\n",
      "Trainable params: 445595 (1.70 MB)\n",
      "Non-trainable params: 6 (24.00 Byte)\n",
      "_________________________________________________________________\n"
     ]
    }
   ],
   "source": [
    "sc_model3.summary()"
   ]
  },
  {
   "cell_type": "code",
   "execution_count": 14,
   "metadata": {},
   "outputs": [],
   "source": [
    "#my_callbacks = tf.keras.callbacks.EarlyStopping(monitor='val_loss', patience=10)\n",
    "my_callbacks = [EarlyStopping(monitor = 'val_loss', patience = 10),\n",
    "             ModelCheckpoint('.mdl_wts.hdf5', monitor = 'val_loss', save_best_only = True)]\n",
    "# This callback will stop the training when there is no improvement in\n",
    "# the loss for ten consecutive epochs."
   ]
  },
  {
   "cell_type": "code",
   "execution_count": 44,
   "metadata": {},
   "outputs": [
    {
     "name": "stdout",
     "output_type": "stream",
     "text": [
      "Epoch 1/100\n",
      "510/510 [==============================] - 97s 183ms/step - loss: 40.2484 - mae: 4.4679 - val_loss: 29.3042 - val_mae: 3.8415\n",
      "Epoch 2/100\n",
      "510/510 [==============================] - 89s 175ms/step - loss: 24.5122 - mae: 3.5592 - val_loss: 22.8524 - val_mae: 3.6055\n",
      "Epoch 3/100\n",
      "510/510 [==============================] - 90s 177ms/step - loss: 23.1156 - mae: 3.4447 - val_loss: 21.7531 - val_mae: 3.5889\n",
      "Epoch 4/100\n",
      "510/510 [==============================] - 92s 181ms/step - loss: 22.0166 - mae: 3.3487 - val_loss: 20.7992 - val_mae: 3.5834\n",
      "Epoch 5/100\n",
      "510/510 [==============================] - 94s 183ms/step - loss: 21.3070 - mae: 3.2926 - val_loss: 20.4813 - val_mae: 3.5884\n",
      "Epoch 6/100\n",
      "510/510 [==============================] - 94s 185ms/step - loss: 20.7045 - mae: 3.2336 - val_loss: 19.8487 - val_mae: 3.6007\n",
      "Epoch 7/100\n",
      "510/510 [==============================] - 99s 194ms/step - loss: 20.2298 - mae: 3.2003 - val_loss: 19.5276 - val_mae: 3.6115\n",
      "Epoch 8/100\n",
      "510/510 [==============================] - 105s 205ms/step - loss: 19.8607 - mae: 3.1679 - val_loss: 19.3039 - val_mae: 3.6228\n",
      "Epoch 9/100\n",
      "510/510 [==============================] - 104s 205ms/step - loss: 19.5702 - mae: 3.1439 - val_loss: 19.1316 - val_mae: 3.6283\n",
      "Epoch 10/100\n",
      "510/510 [==============================] - 101s 197ms/step - loss: 19.2208 - mae: 3.1029 - val_loss: 18.9631 - val_mae: 3.6387\n",
      "Epoch 11/100\n",
      "510/510 [==============================] - 100s 196ms/step - loss: 18.9782 - mae: 3.0839 - val_loss: 18.9635 - val_mae: 3.6511\n",
      "Epoch 12/100\n",
      "510/510 [==============================] - 99s 195ms/step - loss: 18.8131 - mae: 3.0637 - val_loss: 19.0034 - val_mae: 3.6631\n",
      "Epoch 13/100\n",
      "510/510 [==============================] - 99s 195ms/step - loss: 18.9525 - mae: 3.0870 - val_loss: 19.0780 - val_mae: 3.6953\n",
      "Epoch 14/100\n",
      "510/510 [==============================] - 99s 194ms/step - loss: 19.3238 - mae: 3.1320 - val_loss: 19.1890 - val_mae: 3.7184\n",
      "Epoch 15/100\n",
      "510/510 [==============================] - 102s 200ms/step - loss: 19.7594 - mae: 3.1947 - val_loss: 19.2444 - val_mae: 3.7385\n",
      "Epoch 16/100\n",
      "510/510 [==============================] - 102s 201ms/step - loss: 20.5352 - mae: 3.2734 - val_loss: 19.0871 - val_mae: 3.6449\n",
      "Epoch 17/100\n",
      "510/510 [==============================] - 101s 199ms/step - loss: 21.8306 - mae: 3.4130 - val_loss: 18.4562 - val_mae: 3.6801\n",
      "Epoch 18/100\n",
      "510/510 [==============================] - 99s 194ms/step - loss: 23.3706 - mae: 3.5433 - val_loss: 18.4034 - val_mae: 3.6607\n",
      "Epoch 19/100\n",
      "510/510 [==============================] - 103s 202ms/step - loss: 22.3147 - mae: 3.4972 - val_loss: 18.6739 - val_mae: 3.6709\n",
      "Epoch 20/100\n",
      "510/510 [==============================] - 101s 198ms/step - loss: 21.5935 - mae: 3.4808 - val_loss: 19.2383 - val_mae: 3.6440\n",
      "Epoch 21/100\n",
      "510/510 [==============================] - 100s 197ms/step - loss: 21.1210 - mae: 3.4208 - val_loss: 19.5832 - val_mae: 3.7277\n",
      "Epoch 22/100\n",
      "510/510 [==============================] - 102s 201ms/step - loss: 21.0230 - mae: 3.3882 - val_loss: 19.6337 - val_mae: 3.7229\n",
      "Epoch 23/100\n",
      "510/510 [==============================] - 102s 199ms/step - loss: 20.4001 - mae: 3.3516 - val_loss: 19.5500 - val_mae: 3.6764\n",
      "Epoch 24/100\n",
      "510/510 [==============================] - 102s 199ms/step - loss: 18.7733 - mae: 3.2184 - val_loss: 19.6884 - val_mae: 3.6130\n",
      "Epoch 25/100\n",
      "510/510 [==============================] - 101s 199ms/step - loss: 18.5104 - mae: 3.2460 - val_loss: 19.7252 - val_mae: 3.6352\n",
      "Epoch 26/100\n",
      "510/510 [==============================] - 104s 203ms/step - loss: 17.9481 - mae: 3.1778 - val_loss: 20.1436 - val_mae: 3.6062\n",
      "Epoch 27/100\n",
      "510/510 [==============================] - 99s 195ms/step - loss: 16.0766 - mae: 3.0269 - val_loss: 20.5649 - val_mae: 3.6274\n",
      "Epoch 28/100\n",
      "510/510 [==============================] - 105s 205ms/step - loss: 15.2924 - mae: 2.9769 - val_loss: 21.6687 - val_mae: 3.6499\n"
     ]
    }
   ],
   "source": [
    "sc_history3 = sc_model3.fit(clean_train_images,train_labels, batch_size = 32, shuffle=False, validation_split = 0.2, epochs = 100, verbose = 1, callbacks=my_callbacks)"
   ]
  },
  {
   "cell_type": "code",
   "execution_count": 8,
   "metadata": {},
   "outputs": [],
   "source": [
    "backend.clear_session()\n",
    "\n",
    "# Fixing the seed for random number generators so that we can ensure we receive the same output everytime\n",
    "np.random.seed(42)\n",
    "\n",
    "import random\n",
    "\n",
    "random.seed(42)\n",
    "\n",
    "tf.random.set_seed(42)"
   ]
  },
  {
   "cell_type": "code",
   "execution_count": 15,
   "metadata": {},
   "outputs": [],
   "source": [
    "from keras.preprocessing.image import ImageDataGenerator\n",
    "from sklearn.model_selection import train_test_split\n",
    "x_train, x_test, y_train, y_test = train_test_split(clean_train_images, train_labels, test_size = 0.2, random_state = 42)\n",
    "\n",
    "train_datagen = ImageDataGenerator(\n",
    "    zoom_range=[0.5,1.0],\n",
    "   # brightness_range=[0.2,1.0]\n",
    ")\n",
    "val_datagen  = ImageDataGenerator()\n",
    "\n",
    "train_generator = train_datagen.flow(x_train, y_train, batch_size = 32, seed = 42, shuffle = True)\n",
    "val_generator = val_datagen.flow(x_test, y_test, batch_size = 32, seed = 42, shuffle = True)"
   ]
  },
  {
   "cell_type": "code",
   "execution_count": 16,
   "metadata": {},
   "outputs": [],
   "source": [
    "opt = tf.keras.optimizers.Adam(learning_rate=0.0001)\n",
    "sc_model3.compile(optimizer=opt,loss='mse',metrics='mae')"
   ]
  },
  {
   "cell_type": "code",
   "execution_count": 17,
   "metadata": {},
   "outputs": [],
   "source": [
    "#my_callbacks = tf.keras.callbacks.EarlyStopping(monitor='val_loss', patience=10)\n",
    "my_callbacks = [EarlyStopping(monitor = 'val_loss', patience = 10),\n",
    "             ModelCheckpoint('.mdl_wts.hdf5', monitor = 'val_loss', save_best_only = True)]\n",
    "# This callback will stop the training when there is no improvement in\n",
    "# the loss for ten consecutive epochs."
   ]
  },
  {
   "cell_type": "code",
   "execution_count": 18,
   "metadata": {},
   "outputs": [
    {
     "name": "stdout",
     "output_type": "stream",
     "text": [
      "Model: \"sequential\"\n",
      "_________________________________________________________________\n",
      " Layer (type)                Output Shape              Param #   \n",
      "=================================================================\n",
      " batch_normalization (Batch  (None, 66, 200, 3)        12        \n",
      " Normalization)                                                  \n",
      "                                                                 \n",
      " conv2d (Conv2D)             (None, 31, 98, 24)        1824      \n",
      "                                                                 \n",
      " conv2d_1 (Conv2D)           (None, 14, 47, 36)        21636     \n",
      "                                                                 \n",
      " conv2d_2 (Conv2D)           (None, 5, 22, 48)         43248     \n",
      "                                                                 \n",
      " conv2d_3 (Conv2D)           (None, 3, 20, 64)         27712     \n",
      "                                                                 \n",
      " conv2d_4 (Conv2D)           (None, 1, 18, 64)         36928     \n",
      "                                                                 \n",
      " flatten (Flatten)           (None, 1152)              0         \n",
      "                                                                 \n",
      " dense (Dense)               (None, 256)               295168    \n",
      "                                                                 \n",
      " dense_1 (Dense)             (None, 64)                16448     \n",
      "                                                                 \n",
      " dense_2 (Dense)             (None, 32)                2080      \n",
      "                                                                 \n",
      " dense_3 (Dense)             (None, 16)                528       \n",
      "                                                                 \n",
      " output (Dense)              (None, 1)                 17        \n",
      "                                                                 \n",
      "=================================================================\n",
      "Total params: 445601 (1.70 MB)\n",
      "Trainable params: 445595 (1.70 MB)\n",
      "Non-trainable params: 6 (24.00 Byte)\n",
      "_________________________________________________________________\n"
     ]
    }
   ],
   "source": [
    "sc_model3.summary()"
   ]
  },
  {
   "cell_type": "code",
   "execution_count": 19,
   "metadata": {},
   "outputs": [
    {
     "name": "stdout",
     "output_type": "stream",
     "text": [
      "Epoch 1/400\n",
      "510/510 [==============================] - ETA: 0s - loss: 74.6028 - mae: 7.3699"
     ]
    },
    {
     "name": "stderr",
     "output_type": "stream",
     "text": [
      "C:\\Users\\jismo\\anaconda3\\envs\\colab\\lib\\site-packages\\keras\\src\\engine\\training.py:3000: UserWarning: You are saving your model as an HDF5 file via `model.save()`. This file format is considered legacy. We recommend using instead the native Keras format, e.g. `model.save('my_model.keras')`.\n",
      "  saving_api.save_model(\n"
     ]
    },
    {
     "name": "stdout",
     "output_type": "stream",
     "text": [
      "510/510 [==============================] - 102s 186ms/step - loss: 74.6028 - mae: 7.3699 - val_loss: 67.6766 - val_mae: 6.8317\n",
      "Epoch 2/400\n",
      "510/510 [==============================] - 85s 167ms/step - loss: 63.3474 - mae: 6.8366 - val_loss: 55.5930 - val_mae: 6.3263\n",
      "Epoch 3/400\n",
      "510/510 [==============================] - 101s 199ms/step - loss: 59.7240 - mae: 6.5662 - val_loss: 53.2854 - val_mae: 6.0834\n",
      "Epoch 4/400\n",
      "510/510 [==============================] - 102s 200ms/step - loss: 56.4441 - mae: 6.3242 - val_loss: 47.8484 - val_mae: 5.6659\n",
      "Epoch 5/400\n",
      "510/510 [==============================] - 89s 175ms/step - loss: 52.8383 - mae: 6.0508 - val_loss: 56.0400 - val_mae: 6.1811\n",
      "Epoch 6/400\n",
      "510/510 [==============================] - 89s 175ms/step - loss: 51.6623 - mae: 5.9680 - val_loss: 45.1357 - val_mae: 5.5841\n",
      "Epoch 7/400\n",
      "510/510 [==============================] - 88s 172ms/step - loss: 50.0656 - mae: 5.8428 - val_loss: 45.7741 - val_mae: 5.6420\n",
      "Epoch 8/400\n",
      "510/510 [==============================] - 89s 175ms/step - loss: 48.4077 - mae: 5.7246 - val_loss: 40.5819 - val_mae: 5.1977\n",
      "Epoch 9/400\n",
      "510/510 [==============================] - 90s 177ms/step - loss: 47.8684 - mae: 5.6734 - val_loss: 38.8939 - val_mae: 5.0614\n",
      "Epoch 10/400\n",
      "510/510 [==============================] - 100s 196ms/step - loss: 45.9409 - mae: 5.5285 - val_loss: 42.6067 - val_mae: 5.4138\n",
      "Epoch 11/400\n",
      "510/510 [==============================] - 106s 208ms/step - loss: 45.1477 - mae: 5.4733 - val_loss: 37.5587 - val_mae: 4.9705\n",
      "Epoch 12/400\n",
      "510/510 [==============================] - 101s 198ms/step - loss: 43.7264 - mae: 5.3488 - val_loss: 37.3119 - val_mae: 4.9521\n",
      "Epoch 13/400\n",
      "510/510 [==============================] - 102s 200ms/step - loss: 42.9569 - mae: 5.3043 - val_loss: 36.0422 - val_mae: 4.8031\n",
      "Epoch 14/400\n",
      "510/510 [==============================] - 103s 201ms/step - loss: 42.5156 - mae: 5.2748 - val_loss: 49.1347 - val_mae: 5.6474\n",
      "Epoch 15/400\n",
      "510/510 [==============================] - 102s 199ms/step - loss: 41.6105 - mae: 5.1899 - val_loss: 36.5856 - val_mae: 4.9132\n",
      "Epoch 16/400\n",
      "510/510 [==============================] - 102s 199ms/step - loss: 41.0436 - mae: 5.1470 - val_loss: 36.0182 - val_mae: 4.8402\n",
      "Epoch 17/400\n",
      "510/510 [==============================] - 101s 198ms/step - loss: 40.3586 - mae: 5.0997 - val_loss: 37.7489 - val_mae: 4.9697\n",
      "Epoch 18/400\n",
      "510/510 [==============================] - 102s 200ms/step - loss: 39.3471 - mae: 5.0127 - val_loss: 33.4747 - val_mae: 4.5448\n",
      "Epoch 19/400\n",
      "510/510 [==============================] - 104s 203ms/step - loss: 38.8164 - mae: 4.9791 - val_loss: 33.7130 - val_mae: 4.6106\n",
      "Epoch 20/400\n",
      "510/510 [==============================] - 120s 235ms/step - loss: 38.5416 - mae: 4.9273 - val_loss: 33.7010 - val_mae: 4.6492\n",
      "Epoch 21/400\n",
      "510/510 [==============================] - 103s 202ms/step - loss: 38.6366 - mae: 4.9392 - val_loss: 37.4890 - val_mae: 4.9241\n",
      "Epoch 22/400\n",
      "510/510 [==============================] - 100s 195ms/step - loss: 37.4517 - mae: 4.8686 - val_loss: 31.9783 - val_mae: 4.3753\n",
      "Epoch 23/400\n",
      "510/510 [==============================] - 94s 184ms/step - loss: 36.7834 - mae: 4.8084 - val_loss: 32.0487 - val_mae: 4.4605\n",
      "Epoch 24/400\n",
      "510/510 [==============================] - 97s 190ms/step - loss: 37.1447 - mae: 4.8263 - val_loss: 33.1402 - val_mae: 4.6059\n",
      "Epoch 25/400\n",
      "510/510 [==============================] - 94s 183ms/step - loss: 36.0648 - mae: 4.7477 - val_loss: 32.1205 - val_mae: 4.4819\n",
      "Epoch 26/400\n",
      "510/510 [==============================] - 98s 192ms/step - loss: 35.1115 - mae: 4.6764 - val_loss: 37.2617 - val_mae: 4.8088\n",
      "Epoch 27/400\n",
      "510/510 [==============================] - 99s 193ms/step - loss: 34.7783 - mae: 4.6294 - val_loss: 29.4465 - val_mae: 4.2120\n",
      "Epoch 28/400\n",
      "510/510 [==============================] - 94s 183ms/step - loss: 34.5975 - mae: 4.6032 - val_loss: 32.0627 - val_mae: 4.4780\n",
      "Epoch 29/400\n",
      "510/510 [==============================] - 97s 190ms/step - loss: 33.5244 - mae: 4.5381 - val_loss: 30.7394 - val_mae: 4.3274\n",
      "Epoch 30/400\n",
      "510/510 [==============================] - 92s 180ms/step - loss: 33.8764 - mae: 4.5515 - val_loss: 30.6431 - val_mae: 4.3765\n",
      "Epoch 31/400\n",
      "510/510 [==============================] - 96s 188ms/step - loss: 33.7341 - mae: 4.5554 - val_loss: 32.5931 - val_mae: 4.4625\n",
      "Epoch 32/400\n",
      "510/510 [==============================] - 95s 186ms/step - loss: 32.8999 - mae: 4.4789 - val_loss: 29.5245 - val_mae: 4.1350\n",
      "Epoch 33/400\n",
      "510/510 [==============================] - 96s 189ms/step - loss: 31.8636 - mae: 4.4267 - val_loss: 33.0345 - val_mae: 4.4550\n",
      "Epoch 34/400\n",
      "510/510 [==============================] - 97s 189ms/step - loss: 32.2033 - mae: 4.4177 - val_loss: 27.9047 - val_mae: 4.1305\n",
      "Epoch 35/400\n",
      "510/510 [==============================] - 97s 190ms/step - loss: 31.4541 - mae: 4.3434 - val_loss: 28.4605 - val_mae: 4.1544\n",
      "Epoch 36/400\n",
      "510/510 [==============================] - 97s 190ms/step - loss: 31.2977 - mae: 4.3257 - val_loss: 27.3205 - val_mae: 4.0348\n",
      "Epoch 37/400\n",
      "510/510 [==============================] - 98s 192ms/step - loss: 30.6480 - mae: 4.2781 - val_loss: 30.5331 - val_mae: 4.3078\n",
      "Epoch 38/400\n",
      "510/510 [==============================] - 97s 191ms/step - loss: 30.7532 - mae: 4.2987 - val_loss: 26.2797 - val_mae: 3.8980\n",
      "Epoch 39/400\n",
      "510/510 [==============================] - 99s 193ms/step - loss: 29.6715 - mae: 4.1986 - val_loss: 29.8061 - val_mae: 4.2099\n",
      "Epoch 40/400\n",
      "510/510 [==============================] - 96s 187ms/step - loss: 30.4010 - mae: 4.2633 - val_loss: 25.6831 - val_mae: 3.8478\n",
      "Epoch 41/400\n",
      "510/510 [==============================] - 98s 191ms/step - loss: 29.6453 - mae: 4.2095 - val_loss: 24.6205 - val_mae: 3.7865\n",
      "Epoch 42/400\n",
      "510/510 [==============================] - 100s 195ms/step - loss: 29.5938 - mae: 4.2050 - val_loss: 24.9184 - val_mae: 3.8354\n",
      "Epoch 43/400\n",
      "510/510 [==============================] - 96s 188ms/step - loss: 28.5288 - mae: 4.1070 - val_loss: 28.2100 - val_mae: 4.0964\n",
      "Epoch 44/400\n",
      "510/510 [==============================] - 115s 225ms/step - loss: 28.9998 - mae: 4.1417 - val_loss: 26.7181 - val_mae: 3.9822\n",
      "Epoch 45/400\n",
      "510/510 [==============================] - 96s 188ms/step - loss: 28.5202 - mae: 4.1004 - val_loss: 26.6541 - val_mae: 3.9921\n",
      "Epoch 46/400\n",
      "510/510 [==============================] - 98s 192ms/step - loss: 28.7629 - mae: 4.1297 - val_loss: 24.9834 - val_mae: 3.8063\n",
      "Epoch 47/400\n",
      "510/510 [==============================] - 96s 188ms/step - loss: 27.7842 - mae: 4.0402 - val_loss: 25.6817 - val_mae: 3.8831\n",
      "Epoch 48/400\n",
      "510/510 [==============================] - 105s 205ms/step - loss: 27.8374 - mae: 4.0444 - val_loss: 24.4460 - val_mae: 3.6846\n",
      "Epoch 49/400\n",
      "510/510 [==============================] - 96s 189ms/step - loss: 27.6215 - mae: 4.0004 - val_loss: 27.0724 - val_mae: 3.9984\n",
      "Epoch 50/400\n",
      "510/510 [==============================] - 97s 191ms/step - loss: 27.0938 - mae: 3.9789 - val_loss: 22.8486 - val_mae: 3.6288\n",
      "Epoch 51/400\n",
      "510/510 [==============================] - 97s 189ms/step - loss: 26.7483 - mae: 3.9396 - val_loss: 22.3665 - val_mae: 3.5331\n",
      "Epoch 52/400\n",
      "510/510 [==============================] - 109s 213ms/step - loss: 26.8404 - mae: 3.9349 - val_loss: 24.5043 - val_mae: 3.6645\n",
      "Epoch 53/400\n",
      "510/510 [==============================] - 98s 192ms/step - loss: 26.5553 - mae: 3.9302 - val_loss: 22.1466 - val_mae: 3.4993\n",
      "Epoch 54/400\n",
      "510/510 [==============================] - 98s 192ms/step - loss: 25.6619 - mae: 3.8522 - val_loss: 24.7153 - val_mae: 3.8304\n",
      "Epoch 55/400\n",
      "510/510 [==============================] - 100s 196ms/step - loss: 25.9035 - mae: 3.8737 - val_loss: 23.5201 - val_mae: 3.6870\n",
      "Epoch 56/400\n",
      "510/510 [==============================] - 101s 198ms/step - loss: 25.5577 - mae: 3.8385 - val_loss: 23.3319 - val_mae: 3.6176\n",
      "Epoch 57/400\n",
      "510/510 [==============================] - 100s 197ms/step - loss: 25.5921 - mae: 3.8272 - val_loss: 27.5964 - val_mae: 3.9402\n",
      "Epoch 58/400\n",
      "510/510 [==============================] - 97s 191ms/step - loss: 25.2555 - mae: 3.8073 - val_loss: 21.7647 - val_mae: 3.4972\n",
      "Epoch 59/400\n",
      "510/510 [==============================] - 99s 195ms/step - loss: 25.4561 - mae: 3.8298 - val_loss: 21.8115 - val_mae: 3.4389\n"
     ]
    },
    {
     "name": "stdout",
     "output_type": "stream",
     "text": [
      "Epoch 60/400\n",
      "510/510 [==============================] - 96s 188ms/step - loss: 24.8071 - mae: 3.7671 - val_loss: 21.1934 - val_mae: 3.4096\n",
      "Epoch 61/400\n",
      "510/510 [==============================] - 99s 194ms/step - loss: 24.1530 - mae: 3.6995 - val_loss: 22.3908 - val_mae: 3.6287\n",
      "Epoch 62/400\n",
      "510/510 [==============================] - 96s 187ms/step - loss: 24.6185 - mae: 3.7538 - val_loss: 22.8184 - val_mae: 3.5293\n",
      "Epoch 63/400\n",
      "510/510 [==============================] - 100s 196ms/step - loss: 24.6189 - mae: 3.7516 - val_loss: 22.5305 - val_mae: 3.5964\n",
      "Epoch 64/400\n",
      "510/510 [==============================] - 96s 188ms/step - loss: 24.6110 - mae: 3.7276 - val_loss: 20.5736 - val_mae: 3.3287\n",
      "Epoch 65/400\n",
      "510/510 [==============================] - 96s 189ms/step - loss: 24.1496 - mae: 3.6968 - val_loss: 27.3031 - val_mae: 3.8638\n",
      "Epoch 66/400\n",
      "510/510 [==============================] - 100s 195ms/step - loss: 23.1768 - mae: 3.6273 - val_loss: 19.4480 - val_mae: 3.2503\n",
      "Epoch 67/400\n",
      "510/510 [==============================] - 98s 193ms/step - loss: 24.1429 - mae: 3.6828 - val_loss: 19.3355 - val_mae: 3.2766\n",
      "Epoch 68/400\n",
      "510/510 [==============================] - 98s 193ms/step - loss: 23.5412 - mae: 3.6566 - val_loss: 19.8570 - val_mae: 3.2703\n",
      "Epoch 69/400\n",
      "510/510 [==============================] - 100s 196ms/step - loss: 23.5929 - mae: 3.6451 - val_loss: 20.1439 - val_mae: 3.3101\n",
      "Epoch 70/400\n",
      "510/510 [==============================] - 99s 195ms/step - loss: 22.7269 - mae: 3.5756 - val_loss: 20.7721 - val_mae: 3.3628\n",
      "Epoch 71/400\n",
      "510/510 [==============================] - 102s 199ms/step - loss: 23.0568 - mae: 3.5945 - val_loss: 20.3400 - val_mae: 3.3269\n",
      "Epoch 72/400\n",
      "510/510 [==============================] - 98s 192ms/step - loss: 22.4275 - mae: 3.5376 - val_loss: 24.4465 - val_mae: 3.6439\n",
      "Epoch 73/400\n",
      "510/510 [==============================] - 100s 196ms/step - loss: 23.0941 - mae: 3.5897 - val_loss: 19.9233 - val_mae: 3.2810\n",
      "Epoch 74/400\n",
      "510/510 [==============================] - 98s 193ms/step - loss: 22.7058 - mae: 3.5723 - val_loss: 19.7112 - val_mae: 3.2845\n",
      "Epoch 75/400\n",
      "510/510 [==============================] - 99s 194ms/step - loss: 22.2266 - mae: 3.5295 - val_loss: 20.8566 - val_mae: 3.3710\n",
      "Epoch 76/400\n",
      "510/510 [==============================] - 100s 195ms/step - loss: 22.1515 - mae: 3.5078 - val_loss: 18.6349 - val_mae: 3.1727\n",
      "Epoch 77/400\n",
      "510/510 [==============================] - 98s 191ms/step - loss: 21.7589 - mae: 3.4552 - val_loss: 18.9711 - val_mae: 3.2175\n",
      "Epoch 78/400\n",
      "510/510 [==============================] - 99s 194ms/step - loss: 21.5792 - mae: 3.4698 - val_loss: 17.9743 - val_mae: 3.1985\n",
      "Epoch 79/400\n",
      "510/510 [==============================] - 98s 192ms/step - loss: 22.0868 - mae: 3.5051 - val_loss: 20.0096 - val_mae: 3.2704\n",
      "Epoch 80/400\n",
      "510/510 [==============================] - 100s 197ms/step - loss: 21.4207 - mae: 3.4525 - val_loss: 18.6378 - val_mae: 3.1883\n",
      "Epoch 81/400\n",
      "510/510 [==============================] - 99s 194ms/step - loss: 21.9024 - mae: 3.4806 - val_loss: 17.1838 - val_mae: 3.0529\n",
      "Epoch 82/400\n",
      "510/510 [==============================] - 100s 196ms/step - loss: 21.2140 - mae: 3.4206 - val_loss: 18.9038 - val_mae: 3.2080\n",
      "Epoch 83/400\n",
      "510/510 [==============================] - 97s 191ms/step - loss: 21.0834 - mae: 3.4133 - val_loss: 18.1614 - val_mae: 3.1536\n",
      "Epoch 84/400\n",
      "510/510 [==============================] - 100s 196ms/step - loss: 21.1242 - mae: 3.3959 - val_loss: 18.4833 - val_mae: 3.1895\n",
      "Epoch 85/400\n",
      "510/510 [==============================] - 99s 195ms/step - loss: 20.6759 - mae: 3.3910 - val_loss: 18.6756 - val_mae: 3.1463\n",
      "Epoch 86/400\n",
      "510/510 [==============================] - 101s 198ms/step - loss: 20.9225 - mae: 3.3706 - val_loss: 16.2338 - val_mae: 2.9393\n",
      "Epoch 87/400\n",
      "510/510 [==============================] - 100s 196ms/step - loss: 20.6834 - mae: 3.3767 - val_loss: 16.9946 - val_mae: 3.0631\n",
      "Epoch 88/400\n",
      "510/510 [==============================] - 106s 209ms/step - loss: 20.4776 - mae: 3.3549 - val_loss: 17.0152 - val_mae: 3.0549\n",
      "Epoch 89/400\n",
      "510/510 [==============================] - 100s 196ms/step - loss: 20.1037 - mae: 3.3145 - val_loss: 17.9618 - val_mae: 3.0658\n",
      "Epoch 90/400\n",
      "510/510 [==============================] - 101s 197ms/step - loss: 20.0324 - mae: 3.3080 - val_loss: 16.9452 - val_mae: 3.0635\n",
      "Epoch 91/400\n",
      "510/510 [==============================] - 99s 194ms/step - loss: 20.4047 - mae: 3.3466 - val_loss: 16.3575 - val_mae: 2.9606\n",
      "Epoch 92/400\n",
      "510/510 [==============================] - 100s 196ms/step - loss: 20.2013 - mae: 3.3045 - val_loss: 19.0792 - val_mae: 3.2425\n",
      "Epoch 93/400\n",
      "510/510 [==============================] - 101s 198ms/step - loss: 20.1267 - mae: 3.2985 - val_loss: 16.2173 - val_mae: 2.9417\n",
      "Epoch 94/400\n",
      "510/510 [==============================] - 99s 194ms/step - loss: 19.9005 - mae: 3.2870 - val_loss: 16.1740 - val_mae: 2.9447\n",
      "Epoch 95/400\n",
      "510/510 [==============================] - 99s 194ms/step - loss: 19.8502 - mae: 3.2868 - val_loss: 17.2095 - val_mae: 3.0117\n",
      "Epoch 96/400\n",
      "510/510 [==============================] - 100s 195ms/step - loss: 19.5411 - mae: 3.2502 - val_loss: 16.1405 - val_mae: 2.9833\n",
      "Epoch 97/400\n",
      "510/510 [==============================] - 101s 197ms/step - loss: 19.6255 - mae: 3.2512 - val_loss: 16.0682 - val_mae: 2.9717\n",
      "Epoch 98/400\n",
      "510/510 [==============================] - 100s 196ms/step - loss: 19.5010 - mae: 3.2448 - val_loss: 15.3516 - val_mae: 2.8552\n",
      "Epoch 99/400\n",
      "510/510 [==============================] - 102s 200ms/step - loss: 19.2294 - mae: 3.2164 - val_loss: 15.8196 - val_mae: 2.8989\n",
      "Epoch 100/400\n",
      "510/510 [==============================] - 102s 200ms/step - loss: 19.3373 - mae: 3.2296 - val_loss: 15.9703 - val_mae: 2.9213\n",
      "Epoch 101/400\n",
      "510/510 [==============================] - 101s 197ms/step - loss: 19.0072 - mae: 3.1985 - val_loss: 15.0282 - val_mae: 2.8482\n",
      "Epoch 102/400\n",
      "510/510 [==============================] - 110s 216ms/step - loss: 18.8160 - mae: 3.1841 - val_loss: 16.9495 - val_mae: 2.9591\n",
      "Epoch 103/400\n",
      "510/510 [==============================] - 103s 203ms/step - loss: 18.6727 - mae: 3.1658 - val_loss: 15.4719 - val_mae: 2.8366\n",
      "Epoch 104/400\n",
      "510/510 [==============================] - 102s 200ms/step - loss: 18.9806 - mae: 3.1932 - val_loss: 15.3662 - val_mae: 2.8417\n",
      "Epoch 105/400\n",
      "510/510 [==============================] - 101s 198ms/step - loss: 18.7227 - mae: 3.1547 - val_loss: 17.7457 - val_mae: 3.0474\n",
      "Epoch 106/400\n",
      "510/510 [==============================] - 107s 210ms/step - loss: 18.3179 - mae: 3.1343 - val_loss: 16.0168 - val_mae: 2.8892\n",
      "Epoch 107/400\n",
      "510/510 [==============================] - 100s 196ms/step - loss: 18.3379 - mae: 3.1279 - val_loss: 14.5468 - val_mae: 2.7387\n",
      "Epoch 108/400\n",
      "510/510 [==============================] - 101s 199ms/step - loss: 18.2910 - mae: 3.1390 - val_loss: 14.4484 - val_mae: 2.7544\n",
      "Epoch 109/400\n",
      "510/510 [==============================] - 99s 195ms/step - loss: 18.3803 - mae: 3.1357 - val_loss: 15.2655 - val_mae: 2.7656\n",
      "Epoch 110/400\n",
      "510/510 [==============================] - 101s 198ms/step - loss: 18.3310 - mae: 3.1320 - val_loss: 15.1858 - val_mae: 2.8184\n",
      "Epoch 111/400\n",
      "510/510 [==============================] - 101s 199ms/step - loss: 17.5883 - mae: 3.0705 - val_loss: 16.5685 - val_mae: 2.9202\n",
      "Epoch 112/400\n",
      "510/510 [==============================] - 102s 199ms/step - loss: 17.2911 - mae: 3.0437 - val_loss: 15.0046 - val_mae: 2.8042\n",
      "Epoch 113/400\n",
      "510/510 [==============================] - 99s 194ms/step - loss: 17.7730 - mae: 3.0663 - val_loss: 19.8995 - val_mae: 3.3392\n",
      "Epoch 114/400\n",
      "510/510 [==============================] - 102s 199ms/step - loss: 17.5487 - mae: 3.0424 - val_loss: 13.9484 - val_mae: 2.7497\n",
      "Epoch 115/400\n",
      "510/510 [==============================] - 101s 199ms/step - loss: 17.9616 - mae: 3.0823 - val_loss: 15.9864 - val_mae: 2.8824\n",
      "Epoch 116/400\n",
      "510/510 [==============================] - 103s 201ms/step - loss: 17.2943 - mae: 3.0300 - val_loss: 16.2760 - val_mae: 2.8776\n",
      "Epoch 117/400\n",
      "510/510 [==============================] - 99s 195ms/step - loss: 17.3957 - mae: 3.0303 - val_loss: 15.7338 - val_mae: 2.8285\n",
      "Epoch 118/400\n",
      "510/510 [==============================] - 100s 197ms/step - loss: 17.5025 - mae: 3.0414 - val_loss: 14.9282 - val_mae: 2.7371\n",
      "Epoch 119/400\n",
      "510/510 [==============================] - 97s 190ms/step - loss: 16.7736 - mae: 2.9983 - val_loss: 15.9095 - val_mae: 2.8158\n",
      "Epoch 120/400\n",
      "510/510 [==============================] - 100s 195ms/step - loss: 17.0799 - mae: 3.0026 - val_loss: 16.6641 - val_mae: 2.9351\n",
      "Epoch 121/400\n",
      "510/510 [==============================] - 98s 192ms/step - loss: 17.3019 - mae: 3.0104 - val_loss: 15.2944 - val_mae: 2.8146\n",
      "Epoch 122/400\n",
      "510/510 [==============================] - 102s 199ms/step - loss: 17.0531 - mae: 3.0036 - val_loss: 15.7253 - val_mae: 2.7944\n",
      "Epoch 123/400\n",
      "510/510 [==============================] - 99s 193ms/step - loss: 16.8845 - mae: 2.9764 - val_loss: 14.7334 - val_mae: 2.7647\n",
      "Epoch 124/400\n",
      "510/510 [==============================] - 99s 194ms/step - loss: 16.9707 - mae: 2.9894 - val_loss: 15.0862 - val_mae: 2.7882\n"
     ]
    }
   ],
   "source": [
    "sc_history4 = sc_model3.fit(train_generator,validation_data = val_generator, batch_size = 32, epochs = 400, verbose = 1, callbacks=my_callbacks)"
   ]
  },
  {
   "cell_type": "code",
   "execution_count": 23,
   "metadata": {},
   "outputs": [
    {
     "name": "stdout",
     "output_type": "stream",
     "text": [
      "338/338 [==============================] - 9s 24ms/step\n"
     ]
    }
   ],
   "source": [
    "#Best model so far and want to use that for making predictions.\n",
    "\n",
    "predictions = sc_model3.predict(clean_test_images)\n",
    "import pandas as pd\n",
    "\n",
    "os.chdir =  'C:/Users/jismo/great_learning/Speed_Challenge/speed_challenge_2017/data/test/'\n",
    "prediction_csv = pd.DataFrame(predictions, columns=['predictions']).to_csv('predictions.csv')"
   ]
  },
  {
   "cell_type": "code",
   "execution_count": 34,
   "metadata": {},
   "outputs": [
    {
     "data": {
      "image/png": "[encoded data removed]",
      "text/plain": [
       "<Figure size 640x480 with 1 Axes>"
      ]
     },
     "metadata": {},
     "output_type": "display_data"
    }
   ],
   "source": [
    "# Function to plot train and validation accuracy\n",
    "plt.plot(sc_history4 .history['loss'])\n",
    "plt.plot(sc_history4 .history['val_loss'])\n",
    "plt.title('model accuracy')\n",
    "plt.ylabel('accuracy')\n",
    "plt.xlabel('epoch')\n",
    "plt.legend(['train', 'test'], loc='upper left')\n",
    "plt.show()"
   ]
  },
  {
   "cell_type": "code",
   "execution_count": 30,
   "metadata": {},
   "outputs": [],
   "source": [
    "sc_model3.save('C:/Users/jismo/great_learning/Speed_Challenge/speed_challenge_2017/Models/sc_model3.keras')"
   ]
  },
  {
   "cell_type": "code",
   "execution_count": 12,
   "metadata": {},
   "outputs": [],
   "source": [
    "# For Model Building\n",
    "import tensorflow as tf\n",
    "import keras\n",
    "from tensorflow.keras.models import Sequential, Model # Sequential api for sequential model\n",
    "\n",
    "# Clearing backend\n",
    "from tensorflow.keras import backend\n",
    "\n",
    "from tensorflow.keras.utils import to_categorical\n",
    "\n",
    "from tensorflow.keras.models import Sequential\n",
    "\n",
    "from tensorflow.keras.layers import Conv2D, MaxPooling2D, Dense, Flatten, Dropout\n",
    "\n",
    "from tensorflow.keras.callbacks import EarlyStopping, ModelCheckpoint\n",
    "\n",
    "from random import shuffle\n",
    "\n",
    "import numpy as np\n",
    "sc_model4 = tf.keras.models.Sequential([\n",
    "\n",
    "        tf.keras.layers.BatchNormalization(input_shape=(66, 200,3)),\n",
    "        tf.keras.layers.Conv2D(24, (5, 5), activation='relu', strides=(2, 2)),\n",
    "        tf.keras.layers.Conv2D(36, (5, 5), activation='relu', strides=(2, 2)),\n",
    "        tf.keras.layers.Conv2D(48, (5, 5), activation='relu', strides=(2, 2)),\n",
    "        tf.keras.layers.Conv2D(64, (3, 3), activation='relu'),\n",
    "        tf.keras.layers.Conv2D(64, (3, 3), activation='relu'),\n",
    "        tf.keras.layers.Flatten(),\n",
    "        tf.keras.layers.Dense(512, activation='relu'),\n",
    "        tf.keras.layers.Dense(128, activation='relu'),\n",
    "        tf.keras.layers.Dense(64, activation='relu'),\n",
    "        tf.keras.layers.Dense(32, activation='relu'),\n",
    "        tf.keras.layers.Dense(16, activation='relu'),\n",
    "        tf.keras.layers.Dense(1, activation='linear')\n",
    "\n",
    "    ])"
   ]
  },
  {
   "cell_type": "code",
   "execution_count": 13,
   "metadata": {},
   "outputs": [],
   "source": [
    "opt = tf.keras.optimizers.Adam(learning_rate=0.0001)\n",
    "sc_model4.compile(optimizer=opt,loss='mse',metrics='mae')"
   ]
  },
  {
   "cell_type": "code",
   "execution_count": 18,
   "metadata": {},
   "outputs": [],
   "source": [
    "my_callbacks = [EarlyStopping(monitor = 'val_loss', patience = 15)]"
   ]
  },
  {
   "cell_type": "code",
   "execution_count": 19,
   "metadata": {},
   "outputs": [
    {
     "name": "stdout",
     "output_type": "stream",
     "text": [
      "Model: \"sequential\"\n",
      "_________________________________________________________________\n",
      " Layer (type)                Output Shape              Param #   \n",
      "=================================================================\n",
      " batch_normalization (Batch  (None, 66, 200, 3)        12        \n",
      " Normalization)                                                  \n",
      "                                                                 \n",
      " conv2d (Conv2D)             (None, 31, 98, 24)        1824      \n",
      "                                                                 \n",
      " conv2d_1 (Conv2D)           (None, 14, 47, 36)        21636     \n",
      "                                                                 \n",
      " conv2d_2 (Conv2D)           (None, 5, 22, 48)         43248     \n",
      "                                                                 \n",
      " conv2d_3 (Conv2D)           (None, 3, 20, 64)         27712     \n",
      "                                                                 \n",
      " conv2d_4 (Conv2D)           (None, 1, 18, 64)         36928     \n",
      "                                                                 \n",
      " flatten (Flatten)           (None, 1152)              0         \n",
      "                                                                 \n",
      " dense (Dense)               (None, 512)               590336    \n",
      "                                                                 \n",
      " dense_1 (Dense)             (None, 128)               65664     \n",
      "                                                                 \n",
      " dense_2 (Dense)             (None, 64)                8256      \n",
      "                                                                 \n",
      " dense_3 (Dense)             (None, 32)                2080      \n",
      "                                                                 \n",
      " dense_4 (Dense)             (None, 16)                528       \n",
      "                                                                 \n",
      " dense_5 (Dense)             (None, 1)                 17        \n",
      "                                                                 \n",
      "=================================================================\n",
      "Total params: 798241 (3.05 MB)\n",
      "Trainable params: 798235 (3.05 MB)\n",
      "Non-trainable params: 6 (24.00 Byte)\n",
      "_________________________________________________________________\n"
     ]
    }
   ],
   "source": [
    "sc_model4.summary()"
   ]
  },
  {
   "cell_type": "code",
   "execution_count": 20,
   "metadata": {},
   "outputs": [
    {
     "name": "stdout",
     "output_type": "stream",
     "text": [
      "Epoch 1/400\n",
      "510/510 [==============================] - 94s 179ms/step - loss: 77.3023 - mae: 7.4616 - val_loss: 67.2509 - val_mae: 6.8479\n",
      "Epoch 2/400\n",
      "510/510 [==============================] - 95s 186ms/step - loss: 64.7370 - mae: 6.9327 - val_loss: 58.5058 - val_mae: 6.4596\n",
      "Epoch 3/400\n",
      "510/510 [==============================] - 92s 181ms/step - loss: 61.5579 - mae: 6.7111 - val_loss: 52.8372 - val_mae: 6.1701\n",
      "Epoch 4/400\n",
      "510/510 [==============================] - 93s 182ms/step - loss: 58.0279 - mae: 6.4509 - val_loss: 51.6721 - val_mae: 5.7983\n",
      "Epoch 5/400\n",
      "510/510 [==============================] - 91s 178ms/step - loss: 54.4291 - mae: 6.1704 - val_loss: 52.1015 - val_mae: 5.8227\n",
      "Epoch 6/400\n",
      "510/510 [==============================] - 93s 182ms/step - loss: 52.0158 - mae: 5.9917 - val_loss: 46.1902 - val_mae: 5.6088\n",
      "Epoch 7/400\n",
      "510/510 [==============================] - 97s 189ms/step - loss: 49.9859 - mae: 5.8551 - val_loss: 49.0626 - val_mae: 5.6066\n",
      "Epoch 8/400\n",
      "510/510 [==============================] - 103s 202ms/step - loss: 48.6391 - mae: 5.7304 - val_loss: 45.4443 - val_mae: 5.5296\n",
      "Epoch 9/400\n",
      "510/510 [==============================] - 97s 190ms/step - loss: 46.8062 - mae: 5.6050 - val_loss: 40.1591 - val_mae: 5.1770\n",
      "Epoch 10/400\n",
      "510/510 [==============================] - 102s 199ms/step - loss: 46.2625 - mae: 5.5374 - val_loss: 46.8647 - val_mae: 5.5052\n",
      "Epoch 11/400\n",
      "510/510 [==============================] - 105s 206ms/step - loss: 45.2655 - mae: 5.4722 - val_loss: 46.2437 - val_mae: 5.5039\n",
      "Epoch 12/400\n",
      "510/510 [==============================] - 102s 200ms/step - loss: 43.3051 - mae: 5.3116 - val_loss: 39.1381 - val_mae: 5.0850\n",
      "Epoch 13/400\n",
      "510/510 [==============================] - 104s 204ms/step - loss: 43.1294 - mae: 5.2975 - val_loss: 36.1533 - val_mae: 4.8475\n",
      "Epoch 14/400\n",
      "510/510 [==============================] - 101s 199ms/step - loss: 42.6124 - mae: 5.2497 - val_loss: 35.8232 - val_mae: 4.8210\n",
      "Epoch 15/400\n",
      "510/510 [==============================] - 100s 195ms/step - loss: 41.5192 - mae: 5.1674 - val_loss: 42.3485 - val_mae: 5.2389\n",
      "Epoch 16/400\n",
      "510/510 [==============================] - 104s 203ms/step - loss: 41.1281 - mae: 5.1358 - val_loss: 34.0069 - val_mae: 4.6660\n",
      "Epoch 17/400\n",
      "510/510 [==============================] - 98s 191ms/step - loss: 40.0992 - mae: 5.0734 - val_loss: 31.7103 - val_mae: 4.4057\n",
      "Epoch 18/400\n",
      "510/510 [==============================] - 95s 186ms/step - loss: 39.5604 - mae: 5.0302 - val_loss: 39.8481 - val_mae: 5.0798\n",
      "Epoch 19/400\n",
      "510/510 [==============================] - 97s 189ms/step - loss: 38.8832 - mae: 4.9591 - val_loss: 34.2564 - val_mae: 4.7028\n",
      "Epoch 20/400\n",
      "510/510 [==============================] - 95s 185ms/step - loss: 37.9641 - mae: 4.8865 - val_loss: 33.9590 - val_mae: 4.6339\n",
      "Epoch 21/400\n",
      "510/510 [==============================] - 92s 181ms/step - loss: 37.4000 - mae: 4.8475 - val_loss: 33.5859 - val_mae: 4.6097\n",
      "Epoch 22/400\n",
      "510/510 [==============================] - 94s 183ms/step - loss: 36.5803 - mae: 4.7822 - val_loss: 30.2965 - val_mae: 4.3292\n",
      "Epoch 23/400\n",
      "510/510 [==============================] - 93s 181ms/step - loss: 36.4600 - mae: 4.7729 - val_loss: 30.0184 - val_mae: 4.2926\n",
      "Epoch 24/400\n",
      "510/510 [==============================] - 93s 182ms/step - loss: 36.2310 - mae: 4.7620 - val_loss: 29.2111 - val_mae: 4.1913\n",
      "Epoch 25/400\n",
      "510/510 [==============================] - 93s 181ms/step - loss: 35.6892 - mae: 4.7172 - val_loss: 32.2950 - val_mae: 4.5067\n",
      "Epoch 26/400\n",
      "510/510 [==============================] - 92s 179ms/step - loss: 34.8081 - mae: 4.6413 - val_loss: 41.3643 - val_mae: 5.1115\n",
      "Epoch 27/400\n",
      "510/510 [==============================] - 92s 181ms/step - loss: 35.0043 - mae: 4.6518 - val_loss: 30.5150 - val_mae: 4.4769\n",
      "Epoch 28/400\n",
      "510/510 [==============================] - 92s 181ms/step - loss: 33.9785 - mae: 4.5690 - val_loss: 34.1287 - val_mae: 4.5867\n",
      "Epoch 29/400\n",
      "510/510 [==============================] - 91s 178ms/step - loss: 33.3447 - mae: 4.5118 - val_loss: 26.9764 - val_mae: 4.0500\n",
      "Epoch 30/400\n",
      "510/510 [==============================] - 94s 184ms/step - loss: 33.0204 - mae: 4.4937 - val_loss: 27.2129 - val_mae: 4.0648\n",
      "Epoch 31/400\n",
      "510/510 [==============================] - 93s 183ms/step - loss: 32.5007 - mae: 4.4474 - val_loss: 27.0087 - val_mae: 4.0684\n",
      "Epoch 32/400\n",
      "510/510 [==============================] - 91s 179ms/step - loss: 32.1543 - mae: 4.3987 - val_loss: 28.1391 - val_mae: 4.1003\n",
      "Epoch 33/400\n",
      "510/510 [==============================] - 96s 188ms/step - loss: 31.5494 - mae: 4.3660 - val_loss: 28.3795 - val_mae: 4.1482\n",
      "Epoch 34/400\n",
      "510/510 [==============================] - 96s 187ms/step - loss: 31.5209 - mae: 4.3638 - val_loss: 25.6835 - val_mae: 3.8385\n",
      "Epoch 35/400\n",
      "510/510 [==============================] - 98s 193ms/step - loss: 31.0270 - mae: 4.3208 - val_loss: 26.2283 - val_mae: 3.9729\n",
      "Epoch 36/400\n",
      "510/510 [==============================] - 102s 200ms/step - loss: 30.7928 - mae: 4.2933 - val_loss: 25.0645 - val_mae: 3.8385\n",
      "Epoch 37/400\n",
      "510/510 [==============================] - 97s 189ms/step - loss: 30.0446 - mae: 4.2401 - val_loss: 25.1029 - val_mae: 3.8445\n",
      "Epoch 38/400\n",
      "510/510 [==============================] - 93s 182ms/step - loss: 30.3508 - mae: 4.2507 - val_loss: 27.0934 - val_mae: 3.9865\n",
      "Epoch 39/400\n",
      "510/510 [==============================] - 92s 179ms/step - loss: 29.8308 - mae: 4.2062 - val_loss: 26.6033 - val_mae: 4.0314\n",
      "Epoch 40/400\n",
      "510/510 [==============================] - 92s 180ms/step - loss: 29.0598 - mae: 4.1520 - val_loss: 22.8562 - val_mae: 3.6087\n",
      "Epoch 41/400\n",
      "510/510 [==============================] - 91s 179ms/step - loss: 29.5959 - mae: 4.1834 - val_loss: 26.1576 - val_mae: 3.9166\n",
      "Epoch 42/400\n",
      "510/510 [==============================] - 93s 181ms/step - loss: 28.5659 - mae: 4.1144 - val_loss: 22.1819 - val_mae: 3.6147\n",
      "Epoch 43/400\n",
      "510/510 [==============================] - 92s 179ms/step - loss: 28.9326 - mae: 4.1392 - val_loss: 22.5626 - val_mae: 3.6114\n",
      "Epoch 44/400\n",
      "510/510 [==============================] - 92s 180ms/step - loss: 28.3865 - mae: 4.0891 - val_loss: 27.0259 - val_mae: 3.9802\n",
      "Epoch 45/400\n",
      "510/510 [==============================] - 90s 177ms/step - loss: 27.7808 - mae: 4.0241 - val_loss: 27.9114 - val_mae: 4.0233\n",
      "Epoch 46/400\n",
      "510/510 [==============================] - 91s 179ms/step - loss: 27.9362 - mae: 4.0611 - val_loss: 26.3255 - val_mae: 3.8714\n",
      "Epoch 47/400\n",
      "510/510 [==============================] - 91s 179ms/step - loss: 27.3367 - mae: 3.9849 - val_loss: 22.1296 - val_mae: 3.5363\n",
      "Epoch 48/400\n",
      "510/510 [==============================] - 92s 180ms/step - loss: 26.4200 - mae: 3.9300 - val_loss: 25.3397 - val_mae: 3.7621\n",
      "Epoch 49/400\n",
      "510/510 [==============================] - 93s 181ms/step - loss: 26.9508 - mae: 3.9608 - val_loss: 21.9005 - val_mae: 3.5252\n",
      "Epoch 50/400\n",
      "510/510 [==============================] - 101s 199ms/step - loss: 26.7697 - mae: 3.9337 - val_loss: 22.7097 - val_mae: 3.6058\n",
      "Epoch 51/400\n",
      "510/510 [==============================] - 95s 186ms/step - loss: 25.9576 - mae: 3.8786 - val_loss: 22.1259 - val_mae: 3.6082\n",
      "Epoch 52/400\n",
      "510/510 [==============================] - 92s 180ms/step - loss: 26.5857 - mae: 3.8883 - val_loss: 20.9873 - val_mae: 3.4637\n",
      "Epoch 53/400\n",
      "510/510 [==============================] - 92s 180ms/step - loss: 26.1041 - mae: 3.8628 - val_loss: 23.1283 - val_mae: 3.6662\n",
      "Epoch 54/400\n",
      "510/510 [==============================] - 93s 181ms/step - loss: 25.3348 - mae: 3.8025 - val_loss: 22.5171 - val_mae: 3.5933\n",
      "Epoch 55/400\n",
      "510/510 [==============================] - 92s 179ms/step - loss: 25.3833 - mae: 3.8222 - val_loss: 21.7588 - val_mae: 3.5223\n",
      "Epoch 56/400\n",
      "510/510 [==============================] - 92s 180ms/step - loss: 25.4553 - mae: 3.8345 - val_loss: 24.6477 - val_mae: 3.6719\n",
      "Epoch 57/400\n",
      "510/510 [==============================] - 92s 180ms/step - loss: 24.4213 - mae: 3.7162 - val_loss: 21.6115 - val_mae: 3.4953\n",
      "Epoch 58/400\n",
      "510/510 [==============================] - 92s 181ms/step - loss: 25.0895 - mae: 3.7793 - val_loss: 20.8059 - val_mae: 3.4110\n",
      "Epoch 59/400\n",
      "510/510 [==============================] - 92s 180ms/step - loss: 24.9962 - mae: 3.7590 - val_loss: 21.2594 - val_mae: 3.4735\n"
     ]
    },
    {
     "name": "stdout",
     "output_type": "stream",
     "text": [
      "Epoch 60/400\n",
      "510/510 [==============================] - 92s 179ms/step - loss: 24.0949 - mae: 3.7000 - val_loss: 19.7393 - val_mae: 3.3142\n",
      "Epoch 61/400\n",
      "510/510 [==============================] - 91s 178ms/step - loss: 24.1501 - mae: 3.6985 - val_loss: 23.1170 - val_mae: 3.6468\n",
      "Epoch 62/400\n",
      "510/510 [==============================] - 92s 180ms/step - loss: 23.6732 - mae: 3.6641 - val_loss: 20.0417 - val_mae: 3.2903\n",
      "Epoch 63/400\n",
      "510/510 [==============================] - 90s 177ms/step - loss: 23.6921 - mae: 3.6517 - val_loss: 20.2533 - val_mae: 3.2988\n",
      "Epoch 64/400\n",
      "510/510 [==============================] - 92s 179ms/step - loss: 23.4221 - mae: 3.6269 - val_loss: 21.1013 - val_mae: 3.4108\n",
      "Epoch 65/400\n",
      "510/510 [==============================] - 91s 178ms/step - loss: 23.6991 - mae: 3.6550 - val_loss: 21.1964 - val_mae: 3.4620\n",
      "Epoch 66/400\n",
      "510/510 [==============================] - 91s 178ms/step - loss: 23.0984 - mae: 3.6097 - val_loss: 20.1104 - val_mae: 3.3842\n",
      "Epoch 67/400\n",
      "510/510 [==============================] - 91s 179ms/step - loss: 23.3186 - mae: 3.6077 - val_loss: 20.1005 - val_mae: 3.3579\n",
      "Epoch 68/400\n",
      "510/510 [==============================] - 92s 180ms/step - loss: 22.7609 - mae: 3.5675 - val_loss: 19.1731 - val_mae: 3.2105\n",
      "Epoch 69/400\n",
      "510/510 [==============================] - 92s 180ms/step - loss: 22.6865 - mae: 3.5623 - val_loss: 20.9445 - val_mae: 3.4333\n",
      "Epoch 70/400\n",
      "510/510 [==============================] - 91s 179ms/step - loss: 22.6747 - mae: 3.5511 - val_loss: 18.2336 - val_mae: 3.1840\n",
      "Epoch 71/400\n",
      "510/510 [==============================] - 92s 180ms/step - loss: 22.2167 - mae: 3.5002 - val_loss: 21.0853 - val_mae: 3.3970\n",
      "Epoch 72/400\n",
      "510/510 [==============================] - 91s 178ms/step - loss: 21.9409 - mae: 3.4947 - val_loss: 18.3142 - val_mae: 3.1579\n",
      "Epoch 73/400\n",
      "510/510 [==============================] - 91s 177ms/step - loss: 22.1187 - mae: 3.4959 - val_loss: 21.8933 - val_mae: 3.5450\n",
      "Epoch 74/400\n",
      "510/510 [==============================] - 94s 183ms/step - loss: 21.5050 - mae: 3.4422 - val_loss: 17.2050 - val_mae: 3.0363\n",
      "Epoch 75/400\n",
      "510/510 [==============================] - 92s 179ms/step - loss: 21.8498 - mae: 3.4587 - val_loss: 21.4468 - val_mae: 3.4057\n",
      "Epoch 76/400\n",
      "510/510 [==============================] - 91s 178ms/step - loss: 21.2948 - mae: 3.4244 - val_loss: 17.5505 - val_mae: 3.0529\n",
      "Epoch 77/400\n",
      "510/510 [==============================] - 90s 176ms/step - loss: 20.9553 - mae: 3.3778 - val_loss: 19.9017 - val_mae: 3.3722\n",
      "Epoch 78/400\n",
      "510/510 [==============================] - 90s 177ms/step - loss: 21.1582 - mae: 3.3962 - val_loss: 16.9259 - val_mae: 3.0553\n",
      "Epoch 79/400\n",
      "510/510 [==============================] - 91s 177ms/step - loss: 20.9594 - mae: 3.3759 - val_loss: 17.0846 - val_mae: 3.0861\n",
      "Epoch 80/400\n",
      "510/510 [==============================] - 91s 178ms/step - loss: 20.8919 - mae: 3.3726 - val_loss: 16.9110 - val_mae: 3.0458\n",
      "Epoch 81/400\n",
      "510/510 [==============================] - 91s 178ms/step - loss: 21.3531 - mae: 3.4011 - val_loss: 16.7223 - val_mae: 2.9874\n",
      "Epoch 82/400\n",
      "510/510 [==============================] - 91s 178ms/step - loss: 20.7804 - mae: 3.3467 - val_loss: 20.4239 - val_mae: 3.3441\n",
      "Epoch 83/400\n",
      "510/510 [==============================] - 91s 177ms/step - loss: 20.3149 - mae: 3.3216 - val_loss: 16.8799 - val_mae: 3.0259\n",
      "Epoch 84/400\n",
      "510/510 [==============================] - 91s 178ms/step - loss: 20.0796 - mae: 3.2964 - val_loss: 18.1068 - val_mae: 3.0656\n",
      "Epoch 85/400\n",
      "510/510 [==============================] - 90s 176ms/step - loss: 20.3867 - mae: 3.3312 - val_loss: 17.0358 - val_mae: 3.0302\n",
      "Epoch 86/400\n",
      "510/510 [==============================] - 90s 176ms/step - loss: 20.6644 - mae: 3.3315 - val_loss: 18.6954 - val_mae: 3.1835\n",
      "Epoch 87/400\n",
      "510/510 [==============================] - 91s 179ms/step - loss: 20.2674 - mae: 3.2993 - val_loss: 15.8146 - val_mae: 2.9124\n",
      "Epoch 88/400\n",
      "510/510 [==============================] - 91s 178ms/step - loss: 20.3057 - mae: 3.2949 - val_loss: 18.5219 - val_mae: 3.1238\n",
      "Epoch 89/400\n",
      "510/510 [==============================] - 91s 177ms/step - loss: 19.5569 - mae: 3.2417 - val_loss: 19.4154 - val_mae: 3.1875\n",
      "Epoch 90/400\n",
      "510/510 [==============================] - 94s 185ms/step - loss: 19.4296 - mae: 3.2216 - val_loss: 17.9181 - val_mae: 3.0697\n",
      "Epoch 91/400\n",
      "510/510 [==============================] - 91s 178ms/step - loss: 19.2439 - mae: 3.2063 - val_loss: 17.7697 - val_mae: 3.0905\n",
      "Epoch 92/400\n",
      "510/510 [==============================] - 91s 178ms/step - loss: 19.3979 - mae: 3.2068 - val_loss: 16.4056 - val_mae: 2.9270\n",
      "Epoch 93/400\n",
      "510/510 [==============================] - 91s 178ms/step - loss: 19.3633 - mae: 3.2151 - val_loss: 16.5615 - val_mae: 2.9437\n",
      "Epoch 94/400\n",
      "510/510 [==============================] - 91s 178ms/step - loss: 18.9050 - mae: 3.1701 - val_loss: 18.1569 - val_mae: 3.0989\n",
      "Epoch 95/400\n",
      "510/510 [==============================] - 90s 177ms/step - loss: 18.9472 - mae: 3.1589 - val_loss: 16.2415 - val_mae: 2.9300\n",
      "Epoch 96/400\n",
      "510/510 [==============================] - 91s 178ms/step - loss: 18.5842 - mae: 3.1514 - val_loss: 16.2795 - val_mae: 2.9593\n",
      "Epoch 97/400\n",
      "510/510 [==============================] - 91s 178ms/step - loss: 18.5457 - mae: 3.1314 - val_loss: 15.7465 - val_mae: 2.9049\n",
      "Epoch 98/400\n",
      "510/510 [==============================] - 92s 179ms/step - loss: 19.1111 - mae: 3.1689 - val_loss: 14.9648 - val_mae: 2.8334\n",
      "Epoch 99/400\n",
      "510/510 [==============================] - 90s 177ms/step - loss: 18.6049 - mae: 3.1391 - val_loss: 17.8027 - val_mae: 3.0319\n",
      "Epoch 100/400\n",
      "510/510 [==============================] - 92s 180ms/step - loss: 18.8790 - mae: 3.1524 - val_loss: 17.0377 - val_mae: 3.0083\n",
      "Epoch 101/400\n",
      "510/510 [==============================] - 95s 185ms/step - loss: 18.4793 - mae: 3.1087 - val_loss: 14.3257 - val_mae: 2.7489\n",
      "Epoch 102/400\n",
      "510/510 [==============================] - 92s 181ms/step - loss: 18.1281 - mae: 3.0792 - val_loss: 15.7625 - val_mae: 2.9286\n",
      "Epoch 103/400\n",
      "510/510 [==============================] - 90s 177ms/step - loss: 18.4217 - mae: 3.1110 - val_loss: 15.6804 - val_mae: 2.8725\n",
      "Epoch 104/400\n",
      "510/510 [==============================] - 90s 177ms/step - loss: 17.7085 - mae: 3.0459 - val_loss: 16.1362 - val_mae: 2.9314\n",
      "Epoch 105/400\n",
      "510/510 [==============================] - 90s 177ms/step - loss: 18.0981 - mae: 3.0822 - val_loss: 15.2599 - val_mae: 2.8600\n",
      "Epoch 106/400\n",
      "510/510 [==============================] - 90s 177ms/step - loss: 17.4437 - mae: 3.0195 - val_loss: 17.4422 - val_mae: 3.0294\n",
      "Epoch 107/400\n",
      "510/510 [==============================] - 91s 178ms/step - loss: 17.7752 - mae: 3.0588 - val_loss: 14.8120 - val_mae: 2.7186\n",
      "Epoch 108/400\n",
      "510/510 [==============================] - 92s 180ms/step - loss: 17.1735 - mae: 3.0011 - val_loss: 15.1991 - val_mae: 2.8066\n",
      "Epoch 109/400\n",
      "510/510 [==============================] - 92s 180ms/step - loss: 17.0766 - mae: 2.9787 - val_loss: 14.3230 - val_mae: 2.6884\n",
      "Epoch 110/400\n",
      "510/510 [==============================] - 91s 179ms/step - loss: 17.5268 - mae: 3.0228 - val_loss: 19.2660 - val_mae: 3.1774\n",
      "Epoch 111/400\n",
      "510/510 [==============================] - 95s 186ms/step - loss: 17.3096 - mae: 2.9928 - val_loss: 15.2159 - val_mae: 2.8745\n",
      "Epoch 112/400\n",
      "510/510 [==============================] - 92s 180ms/step - loss: 17.2358 - mae: 2.9822 - val_loss: 15.8623 - val_mae: 2.8257\n",
      "Epoch 113/400\n",
      "510/510 [==============================] - 92s 180ms/step - loss: 16.6197 - mae: 2.9384 - val_loss: 15.8628 - val_mae: 2.8676\n",
      "Epoch 114/400\n",
      "510/510 [==============================] - 93s 182ms/step - loss: 17.0223 - mae: 2.9760 - val_loss: 15.9609 - val_mae: 2.8781\n",
      "Epoch 115/400\n",
      "510/510 [==============================] - 92s 180ms/step - loss: 17.0836 - mae: 2.9675 - val_loss: 13.6214 - val_mae: 2.5908\n",
      "Epoch 116/400\n",
      "510/510 [==============================] - 91s 178ms/step - loss: 16.9078 - mae: 2.9528 - val_loss: 16.0957 - val_mae: 3.0109\n",
      "Epoch 117/400\n",
      "510/510 [==============================] - 90s 176ms/step - loss: 16.6567 - mae: 2.9313 - val_loss: 13.4971 - val_mae: 2.6208\n",
      "Epoch 118/400\n",
      "510/510 [==============================] - 91s 179ms/step - loss: 16.4657 - mae: 2.9103 - val_loss: 14.2412 - val_mae: 2.7105\n"
     ]
    },
    {
     "name": "stdout",
     "output_type": "stream",
     "text": [
      "Epoch 119/400\n",
      "510/510 [==============================] - 91s 179ms/step - loss: 16.5363 - mae: 2.9293 - val_loss: 15.1452 - val_mae: 2.8093\n",
      "Epoch 120/400\n",
      "510/510 [==============================] - 91s 178ms/step - loss: 16.4064 - mae: 2.9081 - val_loss: 14.3755 - val_mae: 2.6580\n",
      "Epoch 121/400\n",
      "510/510 [==============================] - 91s 178ms/step - loss: 15.8027 - mae: 2.8570 - val_loss: 14.0434 - val_mae: 2.6403\n",
      "Epoch 122/400\n",
      "510/510 [==============================] - 91s 178ms/step - loss: 16.0378 - mae: 2.8802 - val_loss: 12.9816 - val_mae: 2.5575\n",
      "Epoch 123/400\n",
      "510/510 [==============================] - 92s 180ms/step - loss: 15.8994 - mae: 2.8471 - val_loss: 14.6042 - val_mae: 2.6466\n",
      "Epoch 124/400\n",
      "510/510 [==============================] - 90s 176ms/step - loss: 15.7005 - mae: 2.8468 - val_loss: 13.6750 - val_mae: 2.5905\n",
      "Epoch 125/400\n",
      "510/510 [==============================] - 91s 179ms/step - loss: 15.8474 - mae: 2.8514 - val_loss: 13.8177 - val_mae: 2.6191\n",
      "Epoch 126/400\n",
      "510/510 [==============================] - 91s 179ms/step - loss: 16.0726 - mae: 2.8560 - val_loss: 13.7663 - val_mae: 2.6454\n",
      "Epoch 127/400\n",
      "510/510 [==============================] - 91s 177ms/step - loss: 15.5552 - mae: 2.8091 - val_loss: 13.5541 - val_mae: 2.6225\n",
      "Epoch 128/400\n",
      "510/510 [==============================] - 91s 179ms/step - loss: 15.5736 - mae: 2.8211 - val_loss: 13.9549 - val_mae: 2.6616\n",
      "Epoch 129/400\n",
      "510/510 [==============================] - 91s 178ms/step - loss: 16.0378 - mae: 2.8551 - val_loss: 12.9481 - val_mae: 2.5683\n",
      "Epoch 130/400\n",
      "510/510 [==============================] - 93s 181ms/step - loss: 15.5969 - mae: 2.8072 - val_loss: 14.1552 - val_mae: 2.7269\n",
      "Epoch 131/400\n",
      "510/510 [==============================] - 92s 180ms/step - loss: 15.4644 - mae: 2.8041 - val_loss: 13.4881 - val_mae: 2.5587\n",
      "Epoch 132/400\n",
      "510/510 [==============================] - 91s 179ms/step - loss: 15.2446 - mae: 2.7720 - val_loss: 13.9099 - val_mae: 2.6085\n",
      "Epoch 133/400\n",
      "510/510 [==============================] - 92s 180ms/step - loss: 15.2217 - mae: 2.7656 - val_loss: 13.0449 - val_mae: 2.5444\n",
      "Epoch 134/400\n",
      "510/510 [==============================] - 91s 178ms/step - loss: 15.3338 - mae: 2.7793 - val_loss: 14.3578 - val_mae: 2.6273\n",
      "Epoch 135/400\n",
      "510/510 [==============================] - 91s 179ms/step - loss: 15.0046 - mae: 2.7619 - val_loss: 13.2445 - val_mae: 2.5869\n",
      "Epoch 136/400\n",
      "510/510 [==============================] - 92s 179ms/step - loss: 14.6897 - mae: 2.7243 - val_loss: 12.5175 - val_mae: 2.5091\n",
      "Epoch 137/400\n",
      "510/510 [==============================] - 91s 177ms/step - loss: 15.1352 - mae: 2.7485 - val_loss: 15.1118 - val_mae: 2.7314\n",
      "Epoch 138/400\n",
      "510/510 [==============================] - 92s 180ms/step - loss: 14.5460 - mae: 2.6935 - val_loss: 14.1108 - val_mae: 2.6554\n",
      "Epoch 139/400\n",
      "510/510 [==============================] - 91s 179ms/step - loss: 14.9666 - mae: 2.7385 - val_loss: 13.3902 - val_mae: 2.5462\n",
      "Epoch 140/400\n",
      "510/510 [==============================] - 96s 187ms/step - loss: 14.6878 - mae: 2.7161 - val_loss: 15.0755 - val_mae: 2.7369\n",
      "Epoch 141/400\n",
      "510/510 [==============================] - 91s 177ms/step - loss: 14.7377 - mae: 2.7142 - val_loss: 13.7438 - val_mae: 2.5798\n",
      "Epoch 142/400\n",
      "510/510 [==============================] - 92s 179ms/step - loss: 14.5011 - mae: 2.6791 - val_loss: 15.7104 - val_mae: 2.7193\n",
      "Epoch 143/400\n",
      "510/510 [==============================] - 91s 179ms/step - loss: 14.5625 - mae: 2.6918 - val_loss: 14.8821 - val_mae: 2.8020\n",
      "Epoch 144/400\n",
      "510/510 [==============================] - 91s 178ms/step - loss: 13.8940 - mae: 2.6275 - val_loss: 12.6656 - val_mae: 2.4602\n",
      "Epoch 145/400\n",
      "510/510 [==============================] - 90s 176ms/step - loss: 14.5955 - mae: 2.6947 - val_loss: 13.0975 - val_mae: 2.4947\n",
      "Epoch 146/400\n",
      "510/510 [==============================] - 92s 179ms/step - loss: 14.1419 - mae: 2.6517 - val_loss: 13.2325 - val_mae: 2.5556\n",
      "Epoch 147/400\n",
      "510/510 [==============================] - 91s 179ms/step - loss: 14.1015 - mae: 2.6444 - val_loss: 12.8253 - val_mae: 2.5416\n",
      "Epoch 148/400\n",
      "510/510 [==============================] - 91s 178ms/step - loss: 14.3359 - mae: 2.6509 - val_loss: 13.1626 - val_mae: 2.5724\n",
      "Epoch 149/400\n",
      "510/510 [==============================] - 92s 179ms/step - loss: 14.0046 - mae: 2.6349 - val_loss: 13.2165 - val_mae: 2.5145\n",
      "Epoch 150/400\n",
      "510/510 [==============================] - 93s 182ms/step - loss: 13.9467 - mae: 2.6318 - val_loss: 13.5542 - val_mae: 2.5336\n",
      "Epoch 151/400\n",
      "510/510 [==============================] - 92s 180ms/step - loss: 13.7223 - mae: 2.5980 - val_loss: 12.6213 - val_mae: 2.5310\n"
     ]
    }
   ],
   "source": [
    "sc_history5 = sc_model4.fit(train_generator,validation_data = val_generator, batch_size = 32, epochs = 400, verbose = 1, callbacks=my_callbacks)"
   ]
  },
  {
   "cell_type": "code",
   "execution_count": 21,
   "metadata": {},
   "outputs": [
    {
     "data": {
      "image/png": "[encoded data removed]",
      "text/plain": [
       "<Figure size 640x480 with 1 Axes>"
      ]
     },
     "metadata": {},
     "output_type": "display_data"
    }
   ],
   "source": [
    "# Function to plot train and validation accuracy\n",
    "plt.plot(sc_history5.history['loss'])\n",
    "plt.plot(sc_history5.history['val_loss'])\n",
    "plt.title('model mse loss')\n",
    "plt.ylabel('mse loss')\n",
    "plt.xlabel('epoch')\n",
    "plt.legend(['train', 'test'], loc='upper left')\n",
    "plt.show()"
   ]
  },
  {
   "cell_type": "code",
   "execution_count": 22,
   "metadata": {},
   "outputs": [
    {
     "name": "stdout",
     "output_type": "stream",
     "text": [
      "338/338 [==============================] - 10s 27ms/step\n"
     ]
    }
   ],
   "source": [
    "#Best model so far and want to use that for making predictions.\n",
    "\n",
    "predictions = sc_model4.predict(clean_test_images)\n",
    "import pandas as pd\n",
    "\n",
    "os.chdir =  'C:/Users/jismo/great_learning/Speed_Challenge/speed_challenge_2017/data/test/'\n",
    "prediction_csv = pd.DataFrame(predictions, columns=['predictions']).to_csv('predictions_sc4.csv')"
   ]
  },
  {
   "cell_type": "code",
   "execution_count": 23,
   "metadata": {},
   "outputs": [],
   "source": [
    "sc_model4.save('C:/Users/jismo/great_learning/Speed_Challenge/speed_challenge_2017/Models/sc_model4.keras')"
   ]
  },
  {
   "cell_type": "code",
   "execution_count": 14,
   "metadata": {},
   "outputs": [],
   "source": [
    "# Change callback to use loss for monitoring instead of validation loss to get best results as we have seen that\n",
    "#the loss is decreasing with each epoch.\n",
    "my_callbacks = [EarlyStopping(monitor = 'loss', patience = 15)]"
   ]
  },
  {
   "cell_type": "code",
   "execution_count": 16,
   "metadata": {},
   "outputs": [
    {
     "name": "stdout",
     "output_type": "stream",
     "text": [
      "Epoch 1/400\n",
      "510/510 [==============================] - 98s 186ms/step - loss: 76.1415 - mae: 7.4429 - val_loss: 66.1071 - val_mae: 6.8695\n",
      "Epoch 2/400\n",
      "510/510 [==============================] - 99s 195ms/step - loss: 64.2396 - mae: 6.8910 - val_loss: 56.3491 - val_mae: 6.3169\n",
      "Epoch 3/400\n",
      "510/510 [==============================] - 99s 194ms/step - loss: 59.4274 - mae: 6.5475 - val_loss: 50.4763 - val_mae: 5.9313\n",
      "Epoch 4/400\n",
      "510/510 [==============================] - 96s 187ms/step - loss: 56.3899 - mae: 6.3093 - val_loss: 47.3418 - val_mae: 5.6064\n",
      "Epoch 5/400\n",
      "510/510 [==============================] - 96s 188ms/step - loss: 53.5300 - mae: 6.1020 - val_loss: 46.1851 - val_mae: 5.5385\n",
      "Epoch 6/400\n",
      "510/510 [==============================] - 94s 185ms/step - loss: 50.8301 - mae: 5.9048 - val_loss: 46.9005 - val_mae: 5.5882\n",
      "Epoch 7/400\n",
      "510/510 [==============================] - 94s 185ms/step - loss: 49.8245 - mae: 5.8253 - val_loss: 45.9016 - val_mae: 5.4611\n",
      "Epoch 8/400\n",
      "510/510 [==============================] - 97s 190ms/step - loss: 49.0661 - mae: 5.7572 - val_loss: 42.5511 - val_mae: 5.3103\n",
      "Epoch 9/400\n",
      "510/510 [==============================] - 98s 191ms/step - loss: 46.9465 - mae: 5.5922 - val_loss: 42.1404 - val_mae: 5.3084\n",
      "Epoch 10/400\n",
      "510/510 [==============================] - 97s 191ms/step - loss: 45.9125 - mae: 5.5317 - val_loss: 42.4060 - val_mae: 5.2579\n",
      "Epoch 11/400\n",
      "510/510 [==============================] - 100s 196ms/step - loss: 44.1085 - mae: 5.3996 - val_loss: 37.8283 - val_mae: 4.9176\n",
      "Epoch 12/400\n",
      "510/510 [==============================] - 102s 200ms/step - loss: 43.4554 - mae: 5.3208 - val_loss: 37.6606 - val_mae: 4.9635\n",
      "Epoch 13/400\n",
      "510/510 [==============================] - 100s 196ms/step - loss: 42.4149 - mae: 5.2524 - val_loss: 42.8513 - val_mae: 5.3162\n",
      "Epoch 14/400\n",
      "510/510 [==============================] - 100s 196ms/step - loss: 41.9900 - mae: 5.2207 - val_loss: 35.8319 - val_mae: 4.8034\n",
      "Epoch 15/400\n",
      "510/510 [==============================] - 101s 198ms/step - loss: 40.6271 - mae: 5.1294 - val_loss: 33.3197 - val_mae: 4.4992\n",
      "Epoch 16/400\n",
      "510/510 [==============================] - 102s 199ms/step - loss: 40.5158 - mae: 5.1092 - val_loss: 35.7562 - val_mae: 4.7721\n",
      "Epoch 17/400\n",
      "510/510 [==============================] - 103s 201ms/step - loss: 39.6226 - mae: 5.0306 - val_loss: 34.4284 - val_mae: 4.5367\n",
      "Epoch 18/400\n",
      "510/510 [==============================] - 100s 196ms/step - loss: 38.6676 - mae: 4.9560 - val_loss: 39.4624 - val_mae: 5.1191\n",
      "Epoch 19/400\n",
      "510/510 [==============================] - 105s 207ms/step - loss: 38.2273 - mae: 4.9226 - val_loss: 33.8034 - val_mae: 4.6362\n",
      "Epoch 20/400\n",
      "510/510 [==============================] - 103s 201ms/step - loss: 37.4726 - mae: 4.8570 - val_loss: 32.2751 - val_mae: 4.5417\n",
      "Epoch 21/400\n",
      "510/510 [==============================] - 109s 213ms/step - loss: 36.9801 - mae: 4.8095 - val_loss: 29.9002 - val_mae: 4.2983\n",
      "Epoch 22/400\n",
      "510/510 [==============================] - 107s 209ms/step - loss: 36.6284 - mae: 4.7872 - val_loss: 31.7755 - val_mae: 4.4290\n",
      "Epoch 23/400\n",
      "510/510 [==============================] - 108s 212ms/step - loss: 36.0604 - mae: 4.7528 - val_loss: 27.3886 - val_mae: 4.0558\n",
      "Epoch 24/400\n",
      "510/510 [==============================] - 109s 213ms/step - loss: 35.2783 - mae: 4.6903 - val_loss: 30.4990 - val_mae: 4.3699\n",
      "Epoch 25/400\n",
      "510/510 [==============================] - 107s 209ms/step - loss: 34.9347 - mae: 4.6710 - val_loss: 29.2430 - val_mae: 4.2291\n",
      "Epoch 26/400\n",
      "510/510 [==============================] - 107s 209ms/step - loss: 33.9860 - mae: 4.5797 - val_loss: 29.7054 - val_mae: 4.3281\n",
      "Epoch 27/400\n",
      "510/510 [==============================] - 105s 205ms/step - loss: 33.5033 - mae: 4.5379 - val_loss: 27.1077 - val_mae: 3.9928\n",
      "Epoch 28/400\n",
      "510/510 [==============================] - 106s 209ms/step - loss: 33.7032 - mae: 4.5566 - val_loss: 28.7946 - val_mae: 4.0704\n",
      "Epoch 29/400\n",
      "510/510 [==============================] - 105s 206ms/step - loss: 32.7935 - mae: 4.4797 - val_loss: 29.4814 - val_mae: 4.3363\n",
      "Epoch 30/400\n",
      "510/510 [==============================] - 106s 208ms/step - loss: 32.6786 - mae: 4.4668 - val_loss: 25.8729 - val_mae: 3.9678\n",
      "Epoch 31/400\n",
      "510/510 [==============================] - 106s 208ms/step - loss: 32.2605 - mae: 4.4340 - val_loss: 26.9648 - val_mae: 4.0076\n",
      "Epoch 32/400\n",
      "510/510 [==============================] - 106s 207ms/step - loss: 31.6117 - mae: 4.3685 - val_loss: 24.0664 - val_mae: 3.7687\n",
      "Epoch 33/400\n",
      "510/510 [==============================] - 105s 205ms/step - loss: 31.4412 - mae: 4.3581 - val_loss: 26.2958 - val_mae: 3.9159\n",
      "Epoch 34/400\n",
      "510/510 [==============================] - 105s 206ms/step - loss: 30.8673 - mae: 4.3113 - val_loss: 25.5187 - val_mae: 3.8458\n",
      "Epoch 35/400\n",
      "510/510 [==============================] - 105s 207ms/step - loss: 30.7089 - mae: 4.2994 - val_loss: 25.9802 - val_mae: 3.9391\n",
      "Epoch 36/400\n",
      "510/510 [==============================] - 108s 212ms/step - loss: 30.6166 - mae: 4.2826 - val_loss: 23.0943 - val_mae: 3.7066\n",
      "Epoch 37/400\n",
      "510/510 [==============================] - 105s 206ms/step - loss: 30.1003 - mae: 4.2559 - val_loss: 23.9964 - val_mae: 3.7529\n",
      "Epoch 38/400\n",
      "510/510 [==============================] - 108s 211ms/step - loss: 30.0157 - mae: 4.2232 - val_loss: 24.2137 - val_mae: 3.7727\n",
      "Epoch 39/400\n",
      "510/510 [==============================] - 105s 207ms/step - loss: 29.7346 - mae: 4.2117 - val_loss: 29.0712 - val_mae: 4.1904\n",
      "Epoch 40/400\n",
      "510/510 [==============================] - 108s 211ms/step - loss: 29.3823 - mae: 4.1831 - val_loss: 25.3845 - val_mae: 3.8647\n",
      "Epoch 41/400\n",
      "510/510 [==============================] - 106s 208ms/step - loss: 28.6434 - mae: 4.1281 - val_loss: 24.0691 - val_mae: 3.7976\n",
      "Epoch 42/400\n",
      "510/510 [==============================] - 107s 210ms/step - loss: 28.8526 - mae: 4.1185 - val_loss: 22.4041 - val_mae: 3.6194\n",
      "Epoch 43/400\n",
      "510/510 [==============================] - 107s 209ms/step - loss: 28.1450 - mae: 4.0768 - val_loss: 21.4795 - val_mae: 3.4989\n",
      "Epoch 44/400\n",
      "510/510 [==============================] - 107s 209ms/step - loss: 27.7582 - mae: 4.0459 - val_loss: 21.6165 - val_mae: 3.5191\n",
      "Epoch 45/400\n",
      "510/510 [==============================] - 106s 208ms/step - loss: 27.6674 - mae: 4.0313 - val_loss: 22.4037 - val_mae: 3.5792\n",
      "Epoch 46/400\n",
      "510/510 [==============================] - 107s 209ms/step - loss: 27.3611 - mae: 3.9963 - val_loss: 25.2890 - val_mae: 3.8759\n",
      "Epoch 47/400\n",
      "510/510 [==============================] - 119s 233ms/step - loss: 27.2504 - mae: 4.0036 - val_loss: 22.1858 - val_mae: 3.5703\n",
      "Epoch 48/400\n",
      "510/510 [==============================] - 110s 216ms/step - loss: 27.1989 - mae: 3.9929 - val_loss: 22.5454 - val_mae: 3.6336\n",
      "Epoch 49/400\n",
      "510/510 [==============================] - 108s 211ms/step - loss: 26.6566 - mae: 3.9371 - val_loss: 23.0912 - val_mae: 3.6606\n",
      "Epoch 50/400\n",
      "510/510 [==============================] - 108s 211ms/step - loss: 25.9994 - mae: 3.8871 - val_loss: 21.9165 - val_mae: 3.5286\n",
      "Epoch 51/400\n",
      "510/510 [==============================] - 107s 209ms/step - loss: 26.1386 - mae: 3.8892 - val_loss: 21.6450 - val_mae: 3.4474\n",
      "Epoch 52/400\n",
      "510/510 [==============================] - 106s 208ms/step - loss: 25.7564 - mae: 3.8550 - val_loss: 21.4425 - val_mae: 3.4305\n",
      "Epoch 53/400\n",
      "510/510 [==============================] - 116s 227ms/step - loss: 25.5313 - mae: 3.8472 - val_loss: 20.3305 - val_mae: 3.3351\n",
      "Epoch 54/400\n",
      "510/510 [==============================] - 114s 224ms/step - loss: 25.0682 - mae: 3.7915 - val_loss: 23.8904 - val_mae: 3.6343\n",
      "Epoch 55/400\n",
      "510/510 [==============================] - 113s 221ms/step - loss: 24.5281 - mae: 3.7516 - val_loss: 21.3778 - val_mae: 3.4168\n",
      "Epoch 56/400\n",
      "510/510 [==============================] - 111s 217ms/step - loss: 24.9000 - mae: 3.7728 - val_loss: 23.1667 - val_mae: 3.5688\n",
      "Epoch 57/400\n",
      "510/510 [==============================] - 113s 221ms/step - loss: 24.6279 - mae: 3.7442 - val_loss: 22.6567 - val_mae: 3.5483\n",
      "Epoch 58/400\n",
      "510/510 [==============================] - 108s 212ms/step - loss: 24.3310 - mae: 3.7248 - val_loss: 19.5315 - val_mae: 3.2900\n",
      "Epoch 59/400\n",
      "510/510 [==============================] - 107s 209ms/step - loss: 23.6635 - mae: 3.6678 - val_loss: 20.2579 - val_mae: 3.3007\n",
      "Epoch 60/400\n",
      "510/510 [==============================] - 108s 211ms/step - loss: 24.0415 - mae: 3.7001 - val_loss: 20.9263 - val_mae: 3.4971\n",
      "Epoch 61/400\n",
      "510/510 [==============================] - 106s 208ms/step - loss: 23.6256 - mae: 3.6660 - val_loss: 18.6690 - val_mae: 3.2436\n",
      "Epoch 62/400\n",
      "510/510 [==============================] - 107s 210ms/step - loss: 23.9414 - mae: 3.6616 - val_loss: 18.1026 - val_mae: 3.1682\n",
      "Epoch 63/400\n",
      "510/510 [==============================] - 106s 208ms/step - loss: 23.4429 - mae: 3.6319 - val_loss: 19.3226 - val_mae: 3.2659\n",
      "Epoch 64/400\n",
      "510/510 [==============================] - 106s 208ms/step - loss: 23.1194 - mae: 3.6103 - val_loss: 19.2788 - val_mae: 3.2310\n",
      "Epoch 65/400\n",
      "510/510 [==============================] - 105s 206ms/step - loss: 23.2987 - mae: 3.5976 - val_loss: 18.8629 - val_mae: 3.2303\n",
      "Epoch 66/400\n",
      "510/510 [==============================] - 106s 207ms/step - loss: 22.6193 - mae: 3.5510 - val_loss: 19.6144 - val_mae: 3.3151\n",
      "Epoch 67/400\n",
      "510/510 [==============================] - 124s 243ms/step - loss: 22.6817 - mae: 3.5671 - val_loss: 18.1054 - val_mae: 3.1117\n",
      "Epoch 68/400\n",
      "510/510 [==============================] - 111s 217ms/step - loss: 22.4995 - mae: 3.5393 - val_loss: 17.0771 - val_mae: 3.0798\n",
      "Epoch 69/400\n",
      "510/510 [==============================] - 108s 211ms/step - loss: 22.3591 - mae: 3.5277 - val_loss: 22.5523 - val_mae: 3.4784\n",
      "Epoch 70/400\n",
      "510/510 [==============================] - 107s 210ms/step - loss: 22.2284 - mae: 3.5097 - val_loss: 19.9912 - val_mae: 3.2539\n",
      "Epoch 71/400\n",
      "510/510 [==============================] - 107s 210ms/step - loss: 21.6597 - mae: 3.4795 - val_loss: 19.5602 - val_mae: 3.2529\n",
      "Epoch 72/400\n",
      "510/510 [==============================] - 107s 209ms/step - loss: 21.7643 - mae: 3.4718 - val_loss: 18.3775 - val_mae: 3.1081\n",
      "Epoch 73/400\n",
      "510/510 [==============================] - 106s 208ms/step - loss: 21.8260 - mae: 3.4725 - val_loss: 18.3179 - val_mae: 3.1617\n",
      "Epoch 74/400\n",
      "510/510 [==============================] - 106s 207ms/step - loss: 21.7676 - mae: 3.4750 - val_loss: 18.3802 - val_mae: 3.1902\n",
      "Epoch 75/400\n",
      "510/510 [==============================] - 105s 205ms/step - loss: 21.6698 - mae: 3.4584 - val_loss: 18.9411 - val_mae: 3.1809\n",
      "Epoch 76/400\n",
      "510/510 [==============================] - 107s 211ms/step - loss: 21.3430 - mae: 3.4210 - val_loss: 20.0545 - val_mae: 3.2094\n",
      "Epoch 77/400\n",
      "510/510 [==============================] - 106s 208ms/step - loss: 21.0221 - mae: 3.4055 - val_loss: 17.7127 - val_mae: 3.1486\n",
      "Epoch 78/400\n",
      "510/510 [==============================] - 108s 211ms/step - loss: 20.5375 - mae: 3.3480 - val_loss: 17.2577 - val_mae: 3.0626\n",
      "Epoch 79/400\n",
      "510/510 [==============================] - 106s 208ms/step - loss: 20.8044 - mae: 3.3693 - val_loss: 19.5845 - val_mae: 3.2004\n",
      "Epoch 80/400\n",
      "510/510 [==============================] - 106s 208ms/step - loss: 20.7834 - mae: 3.3603 - val_loss: 19.6803 - val_mae: 3.3426\n",
      "Epoch 81/400\n",
      "510/510 [==============================] - 108s 210ms/step - loss: 21.1017 - mae: 3.3886 - val_loss: 18.5899 - val_mae: 3.1659\n",
      "Epoch 82/400\n",
      "510/510 [==============================] - 107s 210ms/step - loss: 19.9257 - mae: 3.3093 - val_loss: 17.5637 - val_mae: 3.0990\n",
      "Epoch 83/400\n",
      "510/510 [==============================] - 107s 210ms/step - loss: 19.7460 - mae: 3.2733 - val_loss: 17.7693 - val_mae: 3.1152\n",
      "Epoch 84/400\n",
      "510/510 [==============================] - 106s 208ms/step - loss: 19.9339 - mae: 3.2826 - val_loss: 17.6756 - val_mae: 3.1175\n",
      "Epoch 85/400\n",
      "510/510 [==============================] - 107s 209ms/step - loss: 19.3712 - mae: 3.2426 - val_loss: 17.4398 - val_mae: 3.0187\n",
      "Epoch 86/400\n",
      "510/510 [==============================] - 108s 211ms/step - loss: 19.5321 - mae: 3.2582 - val_loss: 17.3116 - val_mae: 3.0669\n",
      "Epoch 87/400\n",
      "510/510 [==============================] - 106s 207ms/step - loss: 19.4528 - mae: 3.2450 - val_loss: 17.0558 - val_mae: 3.0035\n",
      "Epoch 88/400\n",
      "510/510 [==============================] - 114s 223ms/step - loss: 19.3891 - mae: 3.2361 - val_loss: 20.9083 - val_mae: 3.2370\n",
      "Epoch 89/400\n",
      "510/510 [==============================] - 110s 215ms/step - loss: 19.5984 - mae: 3.2312 - val_loss: 16.9092 - val_mae: 2.9734\n",
      "Epoch 90/400\n",
      "510/510 [==============================] - 111s 217ms/step - loss: 19.2536 - mae: 3.2296 - val_loss: 16.8874 - val_mae: 2.9973\n",
      "Epoch 91/400\n",
      "510/510 [==============================] - 111s 217ms/step - loss: 18.6250 - mae: 3.1584 - val_loss: 17.1235 - val_mae: 2.9773\n",
      "Epoch 92/400\n",
      "510/510 [==============================] - 111s 217ms/step - loss: 18.7701 - mae: 3.1789 - val_loss: 15.9565 - val_mae: 2.9252\n",
      "Epoch 93/400\n",
      "510/510 [==============================] - 108s 212ms/step - loss: 18.6710 - mae: 3.1491 - val_loss: 16.2762 - val_mae: 2.9174\n",
      "Epoch 94/400\n",
      "510/510 [==============================] - 105s 206ms/step - loss: 18.3160 - mae: 3.1198 - val_loss: 16.5959 - val_mae: 2.9303\n",
      "Epoch 95/400\n",
      "510/510 [==============================] - 104s 203ms/step - loss: 17.8675 - mae: 3.0884 - val_loss: 16.1195 - val_mae: 2.9892\n",
      "Epoch 96/400\n",
      "510/510 [==============================] - 105s 205ms/step - loss: 18.3630 - mae: 3.1369 - val_loss: 16.6159 - val_mae: 2.9422\n",
      "Epoch 97/400\n",
      "510/510 [==============================] - 104s 204ms/step - loss: 17.7828 - mae: 3.0815 - val_loss: 17.0315 - val_mae: 2.9652\n",
      "Epoch 98/400\n",
      "510/510 [==============================] - 104s 204ms/step - loss: 18.0858 - mae: 3.1013 - val_loss: 17.9323 - val_mae: 3.0311\n",
      "Epoch 99/400\n",
      "510/510 [==============================] - 104s 203ms/step - loss: 17.9920 - mae: 3.0796 - val_loss: 15.6692 - val_mae: 2.9206\n",
      "Epoch 100/400\n",
      "510/510 [==============================] - 106s 208ms/step - loss: 18.0779 - mae: 3.0841 - val_loss: 16.1933 - val_mae: 2.8958\n",
      "Epoch 101/400\n",
      "510/510 [==============================] - 123s 241ms/step - loss: 15.2813 - mae: 2.7780 - val_loss: 15.5398 - val_mae: 2.8377\n",
      "Epoch 133/400\n",
      "510/510 [==============================] - 419s 822ms/step - loss: 14.9121 - mae: 2.7458 - val_loss: 14.7761 - val_mae: 2.6425\n",
      "Epoch 134/400\n",
      "510/510 [==============================] - 434s 853ms/step - loss: 15.0129 - mae: 2.7728 - val_loss: 15.6109 - val_mae: 2.7381\n",
      "Epoch 135/400\n",
      "510/510 [==============================] - 104s 203ms/step - loss: 14.9344 - mae: 2.7536 - val_loss: 15.9268 - val_mae: 2.8439\n",
      "Epoch 136/400\n",
      "510/510 [==============================] - 104s 203ms/step - loss: 14.1121 - mae: 2.6744 - val_loss: 14.3617 - val_mae: 2.6222\n",
      "Epoch 137/400\n",
      "510/510 [==============================] - 106s 207ms/step - loss: 14.4918 - mae: 2.6870 - val_loss: 15.6745 - val_mae: 2.7798\n",
      "Epoch 138/400\n",
      "510/510 [==============================] - 108s 211ms/step - loss: 14.4894 - mae: 2.6918 - val_loss: 13.8219 - val_mae: 2.5343\n",
      "Epoch 139/400\n",
      "510/510 [==============================] - 107s 210ms/step - loss: 13.8394 - mae: 2.6501 - val_loss: 14.0157 - val_mae: 2.6572\n",
      "Epoch 140/400\n",
      "510/510 [==============================] - 108s 211ms/step - loss: 14.2568 - mae: 2.6690 - val_loss: 13.8522 - val_mae: 2.6405\n",
      "Epoch 141/400\n",
      "510/510 [==============================] - 111s 218ms/step - loss: 13.8844 - mae: 2.6568 - val_loss: 13.6932 - val_mae: 2.5039\n",
      "Epoch 142/400\n",
      "510/510 [==============================] - 107s 210ms/step - loss: 13.9001 - mae: 2.6465 - val_loss: 13.8315 - val_mae: 2.6097\n",
      "Epoch 143/400\n",
      "510/510 [==============================] - 107s 210ms/step - loss: 14.4382 - mae: 2.6795 - val_loss: 13.9011 - val_mae: 2.5565\n",
      "Epoch 144/400\n",
      "510/510 [==============================] - 108s 212ms/step - loss: 14.2019 - mae: 2.6503 - val_loss: 13.4146 - val_mae: 2.5723\n",
      "Epoch 145/400\n",
      "510/510 [==============================] - 114s 223ms/step - loss: 13.8448 - mae: 2.6332 - val_loss: 13.4417 - val_mae: 2.4999\n",
      "Epoch 146/400\n",
      "510/510 [==============================] - 115s 226ms/step - loss: 13.8854 - mae: 2.6474 - val_loss: 15.7497 - val_mae: 2.6906\n",
      "Epoch 147/400\n",
      "510/510 [==============================] - 108s 211ms/step - loss: 13.2737 - mae: 2.5794 - val_loss: 15.6036 - val_mae: 2.6767\n",
      "Epoch 148/400\n"
     ]
    },
    {
     "name": "stdout",
     "output_type": "stream",
     "text": [
      "510/510 [==============================] - 107s 209ms/step - loss: 13.8530 - mae: 2.6233 - val_loss: 13.1033 - val_mae: 2.5708\n",
      "Epoch 149/400\n",
      "510/510 [==============================] - 107s 210ms/step - loss: 13.5451 - mae: 2.6029 - val_loss: 14.2503 - val_mae: 2.6559\n",
      "Epoch 150/400\n",
      "510/510 [==============================] - 107s 209ms/step - loss: 13.8755 - mae: 2.6250 - val_loss: 15.3902 - val_mae: 2.7251\n",
      "Epoch 151/400\n",
      "510/510 [==============================] - 110s 214ms/step - loss: 13.6252 - mae: 2.5931 - val_loss: 13.6664 - val_mae: 2.5236\n",
      "Epoch 152/400\n",
      "510/510 [==============================] - 117s 229ms/step - loss: 13.3417 - mae: 2.5780 - val_loss: 12.9091 - val_mae: 2.4516\n",
      "Epoch 153/400\n",
      "510/510 [==============================] - 109s 214ms/step - loss: 13.8210 - mae: 2.6191 - val_loss: 13.2872 - val_mae: 2.5482\n",
      "Epoch 154/400\n",
      "510/510 [==============================] - 112s 219ms/step - loss: 12.9705 - mae: 2.5352 - val_loss: 13.2048 - val_mae: 2.5294\n",
      "Epoch 155/400\n",
      "510/510 [==============================] - 109s 213ms/step - loss: 12.9098 - mae: 2.5300 - val_loss: 12.8040 - val_mae: 2.4430\n",
      "Epoch 156/400\n",
      "510/510 [==============================] - 112s 219ms/step - loss: 13.2683 - mae: 2.5678 - val_loss: 15.2229 - val_mae: 2.6698\n",
      "Epoch 157/400\n",
      "510/510 [==============================] - 107s 210ms/step - loss: 13.1138 - mae: 2.5354 - val_loss: 13.1593 - val_mae: 2.4759\n",
      "Epoch 158/400\n",
      "510/510 [==============================] - 106s 208ms/step - loss: 12.6132 - mae: 2.5096 - val_loss: 13.8606 - val_mae: 2.5917\n",
      "Epoch 159/400\n",
      "510/510 [==============================] - 106s 208ms/step - loss: 12.8963 - mae: 2.5179 - val_loss: 12.5826 - val_mae: 2.3862\n",
      "Epoch 160/400\n",
      "510/510 [==============================] - 106s 207ms/step - loss: 12.8729 - mae: 2.5124 - val_loss: 14.9204 - val_mae: 2.8320\n",
      "Epoch 161/400\n",
      "510/510 [==============================] - 107s 209ms/step - loss: 12.9409 - mae: 2.5188 - val_loss: 12.5935 - val_mae: 2.4287\n",
      "Epoch 162/400\n",
      "510/510 [==============================] - 107s 209ms/step - loss: 12.8743 - mae: 2.5065 - val_loss: 12.8496 - val_mae: 2.3987\n",
      "Epoch 163/400\n",
      "510/510 [==============================] - 107s 210ms/step - loss: 12.7578 - mae: 2.4930 - val_loss: 12.8655 - val_mae: 2.5201\n",
      "Epoch 164/400\n",
      "510/510 [==============================] - 113s 221ms/step - loss: 12.6067 - mae: 2.4749 - val_loss: 14.6255 - val_mae: 2.6167\n",
      "Epoch 165/400\n",
      "510/510 [==============================] - 108s 212ms/step - loss: 12.7328 - mae: 2.4832 - val_loss: 13.0042 - val_mae: 2.4108\n",
      "Epoch 166/400\n",
      "510/510 [==============================] - 113s 221ms/step - loss: 12.5194 - mae: 2.4781 - val_loss: 14.6319 - val_mae: 2.5713\n",
      "Epoch 167/400\n",
      "510/510 [==============================] - 108s 211ms/step - loss: 12.2948 - mae: 2.4550 - val_loss: 13.7398 - val_mae: 2.5488\n",
      "Epoch 168/400\n",
      "510/510 [==============================] - 110s 215ms/step - loss: 12.3758 - mae: 2.4381 - val_loss: 13.3835 - val_mae: 2.5096\n",
      "Epoch 169/400\n",
      "510/510 [==============================] - 107s 209ms/step - loss: 12.5921 - mae: 2.4750 - val_loss: 13.0602 - val_mae: 2.4713\n",
      "Epoch 170/400\n",
      "510/510 [==============================] - 106s 208ms/step - loss: 12.1919 - mae: 2.4323 - val_loss: 12.8044 - val_mae: 2.4021\n",
      "Epoch 171/400\n",
      "510/510 [==============================] - 107s 210ms/step - loss: 12.1767 - mae: 2.4297 - val_loss: 14.6698 - val_mae: 2.5448\n",
      "Epoch 172/400\n",
      "510/510 [==============================] - 106s 207ms/step - loss: 12.5951 - mae: 2.4840 - val_loss: 13.9179 - val_mae: 2.5222\n",
      "Epoch 173/400\n",
      "510/510 [==============================] - 108s 211ms/step - loss: 12.0709 - mae: 2.4270 - val_loss: 14.7123 - val_mae: 2.5505\n",
      "Epoch 174/400\n",
      "510/510 [==============================] - 107s 209ms/step - loss: 12.5129 - mae: 2.4564 - val_loss: 12.7308 - val_mae: 2.3897\n",
      "Epoch 175/400\n",
      "510/510 [==============================] - 114s 223ms/step - loss: 12.2239 - mae: 2.4289 - val_loss: 12.5043 - val_mae: 2.4067\n",
      "Epoch 176/400\n",
      "510/510 [==============================] - 110s 215ms/step - loss: 11.7237 - mae: 2.4002 - val_loss: 13.5483 - val_mae: 2.4251\n",
      "Epoch 177/400\n",
      "510/510 [==============================] - 108s 212ms/step - loss: 11.7117 - mae: 2.3848 - val_loss: 13.4588 - val_mae: 2.4806\n",
      "Epoch 178/400\n",
      "510/510 [==============================] - 107s 209ms/step - loss: 12.0425 - mae: 2.4065 - val_loss: 13.4138 - val_mae: 2.5177\n",
      "Epoch 179/400\n",
      "510/510 [==============================] - 110s 215ms/step - loss: 11.7503 - mae: 2.3809 - val_loss: 12.1797 - val_mae: 2.3590\n",
      "Epoch 180/400\n",
      "510/510 [==============================] - 108s 211ms/step - loss: 11.9671 - mae: 2.4038 - val_loss: 13.2752 - val_mae: 2.4667\n",
      "Epoch 181/400\n",
      "510/510 [==============================] - 107s 210ms/step - loss: 12.0765 - mae: 2.4094 - val_loss: 13.0390 - val_mae: 2.4363\n",
      "Epoch 182/400\n",
      "510/510 [==============================] - 108s 212ms/step - loss: 12.1443 - mae: 2.4112 - val_loss: 12.4921 - val_mae: 2.3724\n",
      "Epoch 183/400\n",
      "510/510 [==============================] - 107s 209ms/step - loss: 11.7674 - mae: 2.3791 - val_loss: 12.6271 - val_mae: 2.3755\n",
      "Epoch 184/400\n",
      "510/510 [==============================] - 107s 210ms/step - loss: 11.4039 - mae: 2.3450 - val_loss: 11.7340 - val_mae: 2.2606\n",
      "Epoch 185/400\n",
      "510/510 [==============================] - 109s 213ms/step - loss: 11.8295 - mae: 2.3875 - val_loss: 12.5642 - val_mae: 2.3554\n",
      "Epoch 186/400\n",
      "510/510 [==============================] - 106s 207ms/step - loss: 11.7447 - mae: 2.3707 - val_loss: 12.3245 - val_mae: 2.3761\n",
      "Epoch 187/400\n",
      "510/510 [==============================] - 108s 211ms/step - loss: 11.5121 - mae: 2.3568 - val_loss: 12.5571 - val_mae: 2.3038\n",
      "Epoch 188/400\n",
      "510/510 [==============================] - 108s 212ms/step - loss: 11.3001 - mae: 2.3360 - val_loss: 12.9761 - val_mae: 2.4403\n",
      "Epoch 189/400\n",
      "510/510 [==============================] - 105s 206ms/step - loss: 11.7957 - mae: 2.3658 - val_loss: 14.7143 - val_mae: 2.5483\n",
      "Epoch 190/400\n",
      "510/510 [==============================] - 108s 211ms/step - loss: 11.1343 - mae: 2.3097 - val_loss: 13.0098 - val_mae: 2.3603\n",
      "Epoch 191/400\n",
      "510/510 [==============================] - 110s 215ms/step - loss: 11.4430 - mae: 2.3321 - val_loss: 12.8811 - val_mae: 2.3853\n",
      "Epoch 192/400\n",
      "510/510 [==============================] - 105s 206ms/step - loss: 11.3687 - mae: 2.3256 - val_loss: 11.8821 - val_mae: 2.3154\n",
      "Epoch 193/400\n",
      "510/510 [==============================] - 106s 208ms/step - loss: 11.6693 - mae: 2.3439 - val_loss: 12.4727 - val_mae: 2.4146\n",
      "Epoch 194/400\n",
      "510/510 [==============================] - 106s 207ms/step - loss: 11.2350 - mae: 2.2979 - val_loss: 13.4690 - val_mae: 2.4049\n",
      "Epoch 195/400\n",
      "510/510 [==============================] - 105s 206ms/step - loss: 11.2886 - mae: 2.3242 - val_loss: 12.4990 - val_mae: 2.3317\n",
      "Epoch 196/400\n",
      "510/510 [==============================] - 105s 205ms/step - loss: 11.2861 - mae: 2.3250 - val_loss: 13.9879 - val_mae: 2.4804\n",
      "Epoch 197/400\n",
      "510/510 [==============================] - 105s 205ms/step - loss: 10.6152 - mae: 2.2577 - val_loss: 13.4029 - val_mae: 2.3853\n",
      "Epoch 198/400\n",
      "510/510 [==============================] - 117s 229ms/step - loss: 11.0182 - mae: 2.2878 - val_loss: 12.4586 - val_mae: 2.3324\n",
      "Epoch 202/400\n",
      "510/510 [==============================] - 924s 2s/step - loss: 10.8367 - mae: 2.2720 - val_loss: 13.3818 - val_mae: 2.4314\n",
      "Epoch 203/400\n",
      "510/510 [==============================] - 103s 202ms/step - loss: 10.6688 - mae: 2.2439 - val_loss: 12.0370 - val_mae: 2.2673\n",
      "Epoch 204/400\n",
      "510/510 [==============================] - 1017s 2s/step - loss: 10.5394 - mae: 2.2285 - val_loss: 12.3074 - val_mae: 2.3292\n",
      "Epoch 205/400\n",
      "510/510 [==============================] - 101s 197ms/step - loss: 10.7711 - mae: 2.2588 - val_loss: 11.7623 - val_mae: 2.2610\n",
      "Epoch 206/400\n",
      "510/510 [==============================] - 107s 209ms/step - loss: 10.6899 - mae: 2.2532 - val_loss: 12.3399 - val_mae: 2.3308\n",
      "Epoch 207/400\n",
      "510/510 [==============================] - 107s 210ms/step - loss: 11.0079 - mae: 2.2740 - val_loss: 13.1233 - val_mae: 2.3728\n",
      "Epoch 208/400\n",
      "510/510 [==============================] - 113s 221ms/step - loss: 10.4018 - mae: 2.2146 - val_loss: 13.0358 - val_mae: 2.3210\n",
      "Epoch 209/400\n",
      "510/510 [==============================] - 106s 207ms/step - loss: 10.4520 - mae: 2.2079 - val_loss: 13.0776 - val_mae: 2.4675\n",
      "Epoch 210/400\n",
      "510/510 [==============================] - 107s 211ms/step - loss: 10.6297 - mae: 2.2365 - val_loss: 12.1167 - val_mae: 2.4431\n",
      "Epoch 211/400\n",
      "510/510 [==============================] - 108s 211ms/step - loss: 10.4550 - mae: 2.2163 - val_loss: 10.2115 - val_mae: 2.1341\n",
      "Epoch 212/400\n",
      "510/510 [==============================] - 110s 215ms/step - loss: 10.6742 - mae: 2.2352 - val_loss: 11.1648 - val_mae: 2.2478\n",
      "Epoch 213/400\n",
      "510/510 [==============================] - 108s 211ms/step - loss: 10.3848 - mae: 2.2102 - val_loss: 12.0095 - val_mae: 2.2856\n",
      "Epoch 214/400\n",
      "510/510 [==============================] - 110s 214ms/step - loss: 10.3729 - mae: 2.2133 - val_loss: 11.0354 - val_mae: 2.2035\n",
      "Epoch 215/400\n",
      "510/510 [==============================] - 112s 219ms/step - loss: 10.5419 - mae: 2.2343 - val_loss: 11.8853 - val_mae: 2.3232\n",
      "Epoch 216/400\n",
      "510/510 [==============================] - 107s 210ms/step - loss: 10.1362 - mae: 2.1752 - val_loss: 10.4655 - val_mae: 2.1268\n",
      "Epoch 217/400\n",
      "510/510 [==============================] - 110s 215ms/step - loss: 10.1445 - mae: 2.1840 - val_loss: 10.9998 - val_mae: 2.1659\n",
      "Epoch 218/400\n",
      "510/510 [==============================] - 107s 209ms/step - loss: 10.1691 - mae: 2.1884 - val_loss: 10.6071 - val_mae: 2.1653\n",
      "Epoch 219/400\n",
      "510/510 [==============================] - 108s 212ms/step - loss: 10.0413 - mae: 2.1786 - val_loss: 11.3424 - val_mae: 2.2373\n",
      "Epoch 220/400\n",
      "510/510 [==============================] - 106s 208ms/step - loss: 9.9842 - mae: 2.1598 - val_loss: 11.9395 - val_mae: 2.2987\n",
      "Epoch 221/400\n",
      "510/510 [==============================] - 107s 209ms/step - loss: 9.7860 - mae: 2.1429 - val_loss: 11.6673 - val_mae: 2.2453\n",
      "Epoch 222/400\n",
      "510/510 [==============================] - 106s 208ms/step - loss: 10.2211 - mae: 2.1763 - val_loss: 10.4329 - val_mae: 2.1524\n",
      "Epoch 223/400\n",
      "510/510 [==============================] - 105s 206ms/step - loss: 9.8404 - mae: 2.1332 - val_loss: 11.7186 - val_mae: 2.2870\n",
      "Epoch 224/400\n",
      "510/510 [==============================] - 108s 212ms/step - loss: 10.0605 - mae: 2.1709 - val_loss: 11.7229 - val_mae: 2.2555\n",
      "Epoch 225/400\n",
      "510/510 [==============================] - 105s 206ms/step - loss: 9.6675 - mae: 2.1257 - val_loss: 10.6606 - val_mae: 2.1262\n",
      "Epoch 226/400\n",
      "510/510 [==============================] - 106s 207ms/step - loss: 9.6917 - mae: 2.1259 - val_loss: 11.3177 - val_mae: 2.1848\n",
      "Epoch 227/400\n",
      "510/510 [==============================] - 113s 222ms/step - loss: 9.7843 - mae: 2.1215 - val_loss: 11.5752 - val_mae: 2.1777\n",
      "Epoch 228/400\n",
      "510/510 [==============================] - 112s 219ms/step - loss: 9.6969 - mae: 2.1116 - val_loss: 10.8067 - val_mae: 2.1518\n",
      "Epoch 229/400\n",
      "510/510 [==============================] - 106s 208ms/step - loss: 10.2445 - mae: 2.1769 - val_loss: 10.7998 - val_mae: 2.1565\n",
      "Epoch 230/400\n",
      "510/510 [==============================] - 108s 211ms/step - loss: 9.7320 - mae: 2.1255 - val_loss: 11.4172 - val_mae: 2.2147\n",
      "Epoch 231/400\n",
      "510/510 [==============================] - 110s 216ms/step - loss: 9.6849 - mae: 2.1223 - val_loss: 12.1460 - val_mae: 2.2863\n",
      "Epoch 232/400\n",
      "510/510 [==============================] - 111s 218ms/step - loss: 9.6359 - mae: 2.1191 - val_loss: 11.7988 - val_mae: 2.2740\n",
      "Epoch 233/400\n",
      "510/510 [==============================] - 104s 203ms/step - loss: 9.7337 - mae: 2.1141 - val_loss: 11.5728 - val_mae: 2.2019\n",
      "Epoch 234/400\n",
      "510/510 [==============================] - 97s 190ms/step - loss: 9.2171 - mae: 2.0675 - val_loss: 12.4795 - val_mae: 2.2811\n",
      "Epoch 235/400\n",
      "510/510 [==============================] - 96s 187ms/step - loss: 9.5422 - mae: 2.1101 - val_loss: 11.7405 - val_mae: 2.1857\n",
      "Epoch 236/400\n",
      "510/510 [==============================] - 103s 202ms/step - loss: 9.3485 - mae: 2.0751 - val_loss: 12.8574 - val_mae: 2.3713\n",
      "Epoch 237/400\n",
      "510/510 [==============================] - 95s 186ms/step - loss: 9.8981 - mae: 2.1407 - val_loss: 11.7963 - val_mae: 2.1942\n",
      "Epoch 238/400\n",
      "510/510 [==============================] - 95s 186ms/step - loss: 9.5098 - mae: 2.1000 - val_loss: 10.6733 - val_mae: 2.1586\n",
      "Epoch 239/400\n",
      "510/510 [==============================] - 99s 195ms/step - loss: 9.2433 - mae: 2.0765 - val_loss: 10.7025 - val_mae: 2.1173\n",
      "Epoch 240/400\n",
      "510/510 [==============================] - 99s 194ms/step - loss: 9.5436 - mae: 2.0694 - val_loss: 11.5145 - val_mae: 2.1911\n",
      "Epoch 241/400\n",
      "510/510 [==============================] - 101s 198ms/step - loss: 9.0603 - mae: 2.0466 - val_loss: 11.0749 - val_mae: 2.1470\n",
      "Epoch 242/400\n",
      "510/510 [==============================] - 113s 220ms/step - loss: 9.1719 - mae: 2.0530 - val_loss: 10.2498 - val_mae: 2.0805\n",
      "Epoch 243/400\n",
      "510/510 [==============================] - 111s 217ms/step - loss: 9.7843 - mae: 2.1134 - val_loss: 10.6130 - val_mae: 2.1851\n",
      "Epoch 244/400\n",
      "510/510 [==============================] - 1728s 3s/step - loss: 8.9379 - mae: 2.0376 - val_loss: 11.5326 - val_mae: 2.2381\n",
      "Epoch 245/400\n",
      "510/510 [==============================] - 96s 188ms/step - loss: 9.1759 - mae: 2.0461 - val_loss: 11.0626 - val_mae: 2.2027\n",
      "Epoch 246/400\n",
      "510/510 [==============================] - 106s 206ms/step - loss: 9.5386 - mae: 2.0842 - val_loss: 10.2146 - val_mae: 2.0788\n",
      "Epoch 247/400\n",
      "510/510 [==============================] - 110s 215ms/step - loss: 9.4166 - mae: 2.0711 - val_loss: 10.2303 - val_mae: 2.0536\n",
      "Epoch 248/400\n",
      "510/510 [==============================] - 103s 201ms/step - loss: 8.9495 - mae: 2.0207 - val_loss: 11.2121 - val_mae: 2.1605\n",
      "Epoch 249/400\n",
      "510/510 [==============================] - 106s 208ms/step - loss: 8.9087 - mae: 2.0123 - val_loss: 11.4285 - val_mae: 2.1751\n",
      "Epoch 250/400\n",
      "510/510 [==============================] - 127s 248ms/step - loss: 9.0718 - mae: 2.0419 - val_loss: 10.2383 - val_mae: 2.0824\n",
      "Epoch 251/400\n",
      "510/510 [==============================] - 127s 248ms/step - loss: 8.8086 - mae: 2.0076 - val_loss: 10.4607 - val_mae: 2.1130\n",
      "Epoch 252/400\n",
      "510/510 [==============================] - 114s 224ms/step - loss: 8.5752 - mae: 1.9925 - val_loss: 9.4999 - val_mae: 1.9789\n",
      "Epoch 253/400\n",
      "510/510 [==============================] - 110s 215ms/step - loss: 8.9488 - mae: 2.0128 - val_loss: 10.3501 - val_mae: 2.0891\n",
      "Epoch 254/400\n",
      "510/510 [==============================] - 107s 210ms/step - loss: 8.8749 - mae: 2.0300 - val_loss: 12.2022 - val_mae: 2.1783\n",
      "Epoch 255/400\n",
      "510/510 [==============================] - 118s 231ms/step - loss: 9.3805 - mae: 2.0624 - val_loss: 11.2396 - val_mae: 2.1918\n",
      "Epoch 256/400\n",
      "510/510 [==============================] - 111s 217ms/step - loss: 8.7528 - mae: 1.9950 - val_loss: 10.0014 - val_mae: 2.0727\n",
      "Epoch 257/400\n",
      "510/510 [==============================] - 116s 227ms/step - loss: 8.9440 - mae: 2.0256 - val_loss: 11.9139 - val_mae: 2.2935\n",
      "Epoch 258/400\n",
      "510/510 [==============================] - 113s 222ms/step - loss: 8.9721 - mae: 2.0284 - val_loss: 10.7007 - val_mae: 2.1444\n",
      "Epoch 259/400\n",
      "510/510 [==============================] - 109s 213ms/step - loss: 8.6316 - mae: 1.9887 - val_loss: 10.7385 - val_mae: 2.1112\n",
      "Epoch 260/400\n",
      "510/510 [==============================] - 102s 200ms/step - loss: 8.6265 - mae: 1.9749 - val_loss: 10.5481 - val_mae: 2.0785\n",
      "Epoch 261/400\n",
      "510/510 [==============================] - 102s 201ms/step - loss: 8.8739 - mae: 2.0026 - val_loss: 10.3412 - val_mae: 2.0998\n",
      "Epoch 262/400\n",
      "510/510 [==============================] - 100s 196ms/step - loss: 8.6606 - mae: 1.9829 - val_loss: 10.4917 - val_mae: 2.0691\n",
      "Epoch 263/400\n",
      "510/510 [==============================] - 99s 194ms/step - loss: 8.3885 - mae: 1.9520 - val_loss: 9.7641 - val_mae: 2.0168\n",
      "Epoch 264/400\n",
      "510/510 [==============================] - 99s 194ms/step - loss: 8.5180 - mae: 1.9603 - val_loss: 10.3093 - val_mae: 2.0765\n",
      "Epoch 265/400\n",
      "510/510 [==============================] - 99s 194ms/step - loss: 8.7278 - mae: 1.9743 - val_loss: 10.0556 - val_mae: 2.0490\n",
      "Epoch 266/400\n",
      "510/510 [==============================] - 102s 200ms/step - loss: 8.3755 - mae: 1.9527 - val_loss: 11.8729 - val_mae: 2.2515\n",
      "Epoch 267/400\n"
     ]
    },
    {
     "name": "stdout",
     "output_type": "stream",
     "text": [
      "510/510 [==============================] - 99s 194ms/step - loss: 8.4375 - mae: 1.9806 - val_loss: 11.4370 - val_mae: 2.2250\n",
      "Epoch 268/400\n",
      "510/510 [==============================] - 103s 201ms/step - loss: 8.4110 - mae: 1.9526 - val_loss: 10.8966 - val_mae: 2.1410\n",
      "Epoch 269/400\n",
      "510/510 [==============================] - 103s 201ms/step - loss: 8.3698 - mae: 1.9490 - val_loss: 10.6472 - val_mae: 2.0990\n",
      "Epoch 270/400\n",
      "510/510 [==============================] - 104s 204ms/step - loss: 8.4539 - mae: 1.9607 - val_loss: 11.3982 - val_mae: 2.1990\n",
      "Epoch 271/400\n",
      "510/510 [==============================] - 103s 202ms/step - loss: 8.4576 - mae: 1.9617 - val_loss: 9.9696 - val_mae: 2.0294\n",
      "Epoch 272/400\n",
      "510/510 [==============================] - 108s 211ms/step - loss: 8.6916 - mae: 1.9774 - val_loss: 11.1577 - val_mae: 2.1220\n",
      "Epoch 273/400\n",
      "510/510 [==============================] - 105s 205ms/step - loss: 8.6031 - mae: 1.9620 - val_loss: 10.6166 - val_mae: 2.1622\n",
      "Epoch 274/400\n",
      "510/510 [==============================] - 108s 211ms/step - loss: 8.4435 - mae: 1.9590 - val_loss: 9.7988 - val_mae: 2.0142\n",
      "Epoch 275/400\n",
      "510/510 [==============================] - 106s 208ms/step - loss: 8.4350 - mae: 1.9452 - val_loss: 10.3569 - val_mae: 2.0985\n",
      "Epoch 276/400\n",
      "510/510 [==============================] - 108s 211ms/step - loss: 8.0236 - mae: 1.9124 - val_loss: 9.7422 - val_mae: 1.9874\n",
      "Epoch 277/400\n",
      "510/510 [==============================] - 114s 223ms/step - loss: 8.5812 - mae: 1.9616 - val_loss: 10.1156 - val_mae: 2.0923\n",
      "Epoch 278/400\n",
      "510/510 [==============================] - 108s 211ms/step - loss: 8.4427 - mae: 1.9432 - val_loss: 10.2618 - val_mae: 2.1053\n",
      "Epoch 279/400\n",
      "510/510 [==============================] - 109s 214ms/step - loss: 7.9846 - mae: 1.8982 - val_loss: 10.7216 - val_mae: 2.0669\n",
      "Epoch 280/400\n",
      "510/510 [==============================] - 107s 210ms/step - loss: 8.2657 - mae: 1.9215 - val_loss: 10.2838 - val_mae: 2.0308\n",
      "Epoch 281/400\n",
      "510/510 [==============================] - 104s 205ms/step - loss: 8.0412 - mae: 1.9009 - val_loss: 10.3316 - val_mae: 2.0608\n",
      "Epoch 282/400\n",
      "510/510 [==============================] - 481s 944ms/step - loss: 8.0316 - mae: 1.9036 - val_loss: 11.5270 - val_mae: 2.1714\n",
      "Epoch 283/400\n",
      "510/510 [==============================] - 95s 186ms/step - loss: 8.3165 - mae: 1.9168 - val_loss: 9.7938 - val_mae: 1.9975\n",
      "Epoch 284/400\n",
      "510/510 [==============================] - 98s 193ms/step - loss: 8.2436 - mae: 1.9247 - val_loss: 11.0085 - val_mae: 2.1561\n",
      "Epoch 285/400\n",
      "510/510 [==============================] - 106s 207ms/step - loss: 7.9848 - mae: 1.9146 - val_loss: 10.6320 - val_mae: 2.1431\n",
      "Epoch 286/400\n",
      "510/510 [==============================] - 105s 205ms/step - loss: 7.8345 - mae: 1.8767 - val_loss: 9.3729 - val_mae: 2.0016\n",
      "Epoch 287/400\n",
      "510/510 [==============================] - 107s 210ms/step - loss: 7.5983 - mae: 1.8627 - val_loss: 9.9987 - val_mae: 2.0293\n",
      "Epoch 288/400\n",
      "510/510 [==============================] - 105s 206ms/step - loss: 8.0295 - mae: 1.9006 - val_loss: 11.1058 - val_mae: 2.1638\n",
      "Epoch 289/400\n",
      "510/510 [==============================] - 97s 191ms/step - loss: 8.1951 - mae: 1.9077 - val_loss: 9.8136 - val_mae: 2.0315\n",
      "Epoch 290/400\n",
      "510/510 [==============================] - 870s 2s/step - loss: 7.7506 - mae: 1.8748 - val_loss: 10.3838 - val_mae: 2.0476\n",
      "Epoch 291/400\n",
      "510/510 [==============================] - 98s 192ms/step - loss: 7.6286 - mae: 1.8547 - val_loss: 10.8024 - val_mae: 2.0969\n",
      "Epoch 292/400\n",
      "510/510 [==============================] - 142s 279ms/step - loss: 7.9581 - mae: 1.8886 - val_loss: 10.8784 - val_mae: 2.1015\n",
      "Epoch 293/400\n",
      "510/510 [==============================] - 102s 201ms/step - loss: 8.1313 - mae: 1.8959 - val_loss: 11.9402 - val_mae: 2.1933\n",
      "Epoch 294/400\n",
      "510/510 [==============================] - 108s 211ms/step - loss: 7.9040 - mae: 1.8759 - val_loss: 11.3161 - val_mae: 2.1251\n",
      "Epoch 295/400\n",
      "510/510 [==============================] - 110s 216ms/step - loss: 7.6822 - mae: 1.8626 - val_loss: 11.3184 - val_mae: 2.0877\n",
      "Epoch 296/400\n",
      "510/510 [==============================] - 112s 220ms/step - loss: 7.6693 - mae: 1.8605 - val_loss: 9.2604 - val_mae: 1.9671\n",
      "Epoch 297/400\n",
      "510/510 [==============================] - 113s 221ms/step - loss: 8.0048 - mae: 1.8843 - val_loss: 9.0670 - val_mae: 1.9474\n",
      "Epoch 298/400\n",
      "510/510 [==============================] - 106s 207ms/step - loss: 7.6417 - mae: 1.8409 - val_loss: 10.7290 - val_mae: 2.1539\n",
      "Epoch 299/400\n",
      "510/510 [==============================] - 100s 197ms/step - loss: 7.8236 - mae: 1.8585 - val_loss: 9.3840 - val_mae: 1.9872\n",
      "Epoch 300/400\n",
      "510/510 [==============================] - 102s 200ms/step - loss: 7.7054 - mae: 1.8582 - val_loss: 9.1803 - val_mae: 1.9628\n",
      "Epoch 301/400\n",
      "510/510 [==============================] - 104s 204ms/step - loss: 7.6620 - mae: 1.8633 - val_loss: 8.7625 - val_mae: 1.8874\n",
      "Epoch 302/400\n",
      "510/510 [==============================] - 105s 205ms/step - loss: 7.7621 - mae: 1.8706 - val_loss: 9.7264 - val_mae: 1.9973\n"
     ]
    }
   ],
   "source": [
    "# Use same model to get improved results based on updated callback based on loss monitoring.\n",
    "sc_history6 = sc_model4.fit(train_generator,validation_data = val_generator, batch_size = 32, epochs = 400, verbose = 1, callbacks=my_callbacks)"
   ]
  },
  {
   "cell_type": "code",
   "execution_count": 17,
   "metadata": {},
   "outputs": [],
   "source": [
    "sc_model4.save('C:/Users/jismo/great_learning/Speed_Challenge/speed_challenge_2017/Models/sc_model4.keras')"
   ]
  },
  {
   "cell_type": "code",
   "execution_count": 18,
   "metadata": {},
   "outputs": [
    {
     "name": "stdout",
     "output_type": "stream",
     "text": [
      "338/338 [==============================] - 10s 26ms/step\n"
     ]
    }
   ],
   "source": [
    "predictions = sc_model4.predict(clean_test_images)\n",
    "import pandas as pd\n",
    "\n",
    "os.chdir =  'C:/Users/jismo/great_learning/Speed_Challenge/speed_challenge_2017/data/predictions/'\n",
    "prediction_csv = pd.DataFrame(predictions, columns=['predictions']).to_csv('predictions_sc4.csv')"
   ]
  },
  {
   "cell_type": "code",
   "execution_count": 19,
   "metadata": {},
   "outputs": [
    {
     "data": {
      "image/png": "[encoded data removed]",
      "text/plain": [
       "<Figure size 640x480 with 1 Axes>"
      ]
     },
     "metadata": {},
     "output_type": "display_data"
    }
   ],
   "source": [
    "# Function to plot train and validation loss\n",
    "plt.plot(sc_history6.history['loss'])\n",
    "plt.plot(sc_history6.history['val_loss'])\n",
    "plt.title('model mse loss')\n",
    "plt.ylabel('mse loss')\n",
    "plt.xlabel('epoch')\n",
    "plt.legend(['train', 'test'], loc='upper left')\n",
    "plt.show()"
   ]
  },
  {
   "cell_type": "code",
   "execution_count": 20,
   "metadata": {},
   "outputs": [
    {
     "data": {
      "image/png": "[encoded data removed]",
      "text/plain": [
       "<Figure size 640x480 with 1 Axes>"
      ]
     },
     "metadata": {},
     "output_type": "display_data"
    }
   ],
   "source": [
    "# Function to plot train and validation mae loss\n",
    "plt.plot(sc_history6.history['mae'])\n",
    "plt.plot(sc_history6.history['val_mae'])\n",
    "plt.title('model mae loss')\n",
    "plt.ylabel('mae loss')\n",
    "plt.xlabel('epoch')\n",
    "plt.legend(['train', 'test'], loc='upper left')\n",
    "plt.show()"
   ]
  },
  {
   "cell_type": "code",
   "execution_count": null,
   "metadata": {},
   "outputs": [],
   "source": []
  }
 ],
 "metadata": {
  "colab": {
   "machine_shape": "hm",
   "provenance": []
  },
  "kernelspec": {
   "display_name": "Python 3 (ipykernel)",
   "language": "python",
   "name": "python3"
  },
  "language_info": {
   "codemirror_mode": {
    "name": "ipython",
    "version": 3
   },
   "file_extension": ".py",
   "mimetype": "text/x-python",
   "name": "python",
   "nbconvert_exporter": "python",
   "pygments_lexer": "ipython3",
   "version": "3.8.17"
  }
 },
 "nbformat": 4,
 "nbformat_minor": 1
}
